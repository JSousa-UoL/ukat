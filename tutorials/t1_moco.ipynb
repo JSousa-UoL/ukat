{
 "cells": [
  {
   "cell_type": "markdown",
   "metadata": {
    "collapsed": true,
    "pycharm": {
     "name": "#%% md\n"
    }
   },
   "source": [
    "# T1 motion correction tutorial"
   ]
  },
  {
   "cell_type": "markdown",
   "metadata": {
    "collapsed": false
   },
   "source": [
    "Start by importing the required libraries and defining some settings:"
   ]
  },
  {
   "cell_type": "code",
   "execution_count": null,
   "metadata": {
    "collapsed": false,
    "pycharm": {
     "name": "#%%\n"
    }
   },
   "outputs": [],
   "source": [
    "import os\n",
    "import numpy as np\n",
    "import matplotlib.pyplot as plt\n",
    "\n",
    "from ukat.data import fetch\n",
    "from ukat.utils.tools import convert_to_pi_range\n",
    "from ukat.mapping.t1 import T1, magnitude_correct\n",
    "from ukat.moco.mdr import MotionCorrection\n",
    "\n",
    "# Ensure figures are rendered in the notebook\n",
    "%matplotlib inline\n",
    "\n",
    "# Initialise output path for the Model-Driven Registration process\n",
    "directory = 't1_motion_correction_output'\n",
    "os.makedirs(directory, exist_ok=True)\n",
    "OUTPUT_DIR = os.path.join(os.getcwd(), directory)"
   ]
  },
  {
   "cell_type": "code",
   "execution_count": null,
   "metadata": {
    "collapsed": false,
    "pycharm": {
     "name": "#%%\n"
    }
   },
   "outputs": [],
   "source": [
    "# Fetch test data: fetch.t1_philips(1) is a single-slice acquisition\n",
    "magnitude, phase, affine, ti, tss = fetch.t1_philips(1)\n",
    "# Pre-processing as preparation for the Model-Driven Registration process\n",
    "phase = convert_to_pi_range(phase)\n",
    "complex_data = magnitude * (np.cos(phase) + 1j * np.sin(phase)) # convert magnitude and phase into complex data\n",
    "ti = np.array(ti) * 1000  # convert TIs to ms\n",
    "magnitude_corrected = np.squeeze(magnitude_correct(complex_data))\n",
    "list_input_parameters = [affine, ti, 0, None, None, 2, False]"
   ]
  },
  {
   "cell_type": "code",
   "execution_count": null,
   "metadata": {},
   "outputs": [],
   "source": [
    "# Model-driven registration\n",
    "registration = MotionCorrection(magnitude_corrected, affine, 'T1_Moco', list_input_parameters, convergence=1, multithread=True, log=False)\n",
    "registration.run()"
   ]
  },
  {
   "cell_type": "code",
   "execution_count": null,
   "metadata": {},
   "outputs": [],
   "source": [
    "# Get the coregistered input pixel_array\n",
    "moco_array = registration.get_coregistered()\n",
    "# Save motion corrected T1 sequence to NIfTI\n",
    "registration.to_nifti(output_directory=OUTPUT_DIR, base_file_name='T1_motion_corrected', maps=['coregistered', 'fitted', 'deformation_field', 'params'])"
   ]
  },
  {
   "cell_type": "code",
   "execution_count": null,
   "metadata": {
    "collapsed": false,
    "pycharm": {
     "name": "#%%\n"
    }
   },
   "outputs": [],
   "source": [
    "# Calculate maps from the original T1 sequence save as niftis\n",
    "t1_mapper = T1(magnitude_corrected, ti, affine=affine, multithread=True, parameters=2)\n",
    "t1_mapper.to_nifti(output_directory=OUTPUT_DIR, base_file_name='T1_original', maps='all')\n",
    "\n",
    "# Calculate maps from the motion corrected T1 sequence and save as niftis\n",
    "t1_moco_mapper = T1(moco_array, ti, affine=affine, multithread=True, parameters=2)\n",
    "t1_moco_mapper.to_nifti(output_directory=OUTPUT_DIR, base_file_name='T1_moco', maps='all')"
   ]
  },
  {
   "cell_type": "code",
   "execution_count": null,
   "metadata": {
    "collapsed": false,
    "pycharm": {
     "name": "#%%\n"
    }
   },
   "outputs": [],
   "source": [
    "fig, ax = plt.subplots(2, 1)\n",
    "\n",
    "# Display the T1 map generated from the original data\n",
    "im = ax.imshow(np.rot90(t1_mapper.t1_map[:, :, 2]), cmap='inferno', clim=(250, 2250))\n",
    "cb = fig.colorbar(im, ax=ax[0, 0])\n",
    "cb.set_label('$T_1 Original$ (ms)')\n",
    "ax[0,0].axis('off')\n",
    "\n",
    "# Display the T1 map generated from the motion corrected data\n",
    "im = ax.imshow(np.rot90(t1_moco_mapper.t1_map[:, :, 2]), cmap='inferno', clim=(250, 2250))\n",
    "cb = fig.colorbar(im, ax=ax[1, 0])\n",
    "cb.set_label('$T_1 Moco$ (ms)')\n",
    "ax[1,0].axis('off')\n",
    "\n",
    "plt.show()"
   ]
  }
 ],
 "metadata": {
  "kernelspec": {
   "display_name": "Python 3",
   "language": "python",
   "name": "python3"
  },
  "language_info": {
   "codemirror_mode": {
    "name": "ipython",
    "version": 3
   },
   "file_extension": ".py",
   "mimetype": "text/x-python",
   "name": "python",
   "nbconvert_exporter": "python",
   "pygments_lexer": "ipython3",
   "version": "3.7.9"
  }
 },
 "nbformat": 4,
 "nbformat_minor": 0
}
