{
 "cells": [
  {
   "cell_type": "markdown",
   "metadata": {
    "collapsed": true,
    "pycharm": {
     "name": "#%% md\n"
    }
   },
   "source": [
    "# T1 motion correction tutorial"
   ]
  },
  {
   "cell_type": "markdown",
   "metadata": {
    "collapsed": false
   },
   "source": [
    "Start by importing the required libraries and defining some settings:"
   ]
  },
  {
   "cell_type": "code",
   "execution_count": 1,
   "metadata": {
    "collapsed": false,
    "pycharm": {
     "name": "#%%\n"
    }
   },
   "outputs": [],
   "source": [
    "import os\n",
    "import numpy as np\n",
    "import nibabel as nib\n",
    "import matplotlib.pyplot as plt\n",
    "\n",
    "from ukat.data import fetch\n",
    "from ukat.utils.tools import convert_to_pi_range\n",
    "from ukat.mapping.t1 import T1, magnitude_correct\n",
    "from ukat.moco.mdr import MotionCorrection\n",
    "\n",
    "# Ensure figures are rendered in the notebook\n",
    "%matplotlib inline\n",
    "\n",
    "# Initialise output path for the Model-Driven Registration process\n",
    "directory = 'T1_motion_correction_output'\n",
    "os.makedirs(directory, exist_ok=True)\n",
    "OUTPUT_DIR = os.path.join(os.getcwd(), directory)"
   ]
  },
  {
   "cell_type": "code",
   "execution_count": 2,
   "metadata": {
    "collapsed": false,
    "pycharm": {
     "name": "#%%\n"
    }
   },
   "outputs": [
    {
     "name": "stderr",
     "output_type": "stream",
     "text": [
      "invalid value encountered in true_divide\n",
      "invalid value encountered in true_divide\n",
      "invalid value encountered in log\n"
     ]
    }
   ],
   "source": [
    "# Fetch test data: fetch.t1_philips(1) is a single-slice acquisition\n",
    "magnitude, phase, affine, ti, tss = fetch.t1_philips(1)\n",
    "\n",
    "# Pre-processing as preparation for the Model-Driven Registration process\n",
    "phase = convert_to_pi_range(phase)\n",
    "complex_data = magnitude * (np.cos(phase) + 1j * np.sin(phase)) # convert magnitude and phase into complex data\n",
    "ti = np.array(ti) * 1000  # convert TIs to ms\n",
    "magnitude_corrected = np.nan_to_num(np.squeeze(magnitude_correct(complex_data)))\n",
    "list_input_parameters = [affine, ti, 0, None, None, 2, False]"
   ]
  },
  {
   "cell_type": "code",
   "execution_count": 3,
   "metadata": {},
   "outputs": [
    {
     "name": "stderr",
     "output_type": "stream",
     "text": [
      "100%|██████████| 16384/16384 [02:20<00:00, 116.70it/s]\n",
      "divide by zero encountered in true_divide\n",
      "Co-registration progress:   0%|          | 0/19 [00:00<?, ?it/s]"
     ]
    },
    {
     "name": "stdout",
     "output_type": "stream",
     "text": [
      "Parameter Map: \n",
      "ParameterObject (000001DED919E110)\n",
      "  RTTI typeinfo:   class elastix::ParameterObject\n",
      "  Reference Count: 2\n",
      "  Modified Time: 65\n",
      "  Debug: Off\n",
      "  Object Name: \n",
      "  Observers: \n",
      "    none\n",
      "ParameterMap 0: \n",
      "  (ASGDParameterEstimationMethod \"Original\")\n",
      "  (AutomaticParameterEstimation \"true\")\n",
      "  (BSplineInterpolationOrder 1)\n",
      "  (CheckNumberOfSamples \"true\")\n",
      "  (DefaultPixelValue 0)\n",
      "  (ErodeFixedMask \"false\")\n",
      "  (ErodeMask \"false\")\n",
      "  (FinalBSplineInterpolationOrder 1)\n",
      "  (FinalGridSpacingInPhysicalUnits 50)\n",
      "  (FixedImageDimension 2)\n",
      "  (FixedImagePyramid \"FixedSmoothingImagePyramid\")\n",
      "  (FixedInternalImagePixelType \"float\")\n",
      "  (GridSpacingSchedule 2.80322 1.9881 1.41 1)\n",
      "  (HowToCombineTransforms \"Compose\")\n",
      "  (ImagePyramidSchedule 8)\n",
      "  (ImageSampler \"RandomCoordinate\")\n",
      "  (Interpolator \"BSplineInterpolator\")\n",
      "  (MaximumNumberOfIterations 500)\n",
      "  (MaximumNumberOfSamplingAttempts 8)\n",
      "  (MaximumStepLength 0.1)\n",
      "  (Metric \"AdvancedMeanSquares\")\n",
      "  (Metric0Weight 1)\n",
      "  (Metric1Weight 1)\n",
      "  (MovingImageDimension 2)\n",
      "  (MovingImagePyramid \"MovingSmoothingImagePyramid\")\n",
      "  (MovingInternalImagePixelType \"float\")\n",
      "  (NewSamplesEveryIteration \"true\")\n",
      "  (NumberOfHistogramBins 32)\n",
      "  (NumberOfResolutions 4)\n",
      "  (NumberOfSamplesForExactGradient 4096)\n",
      "  (NumberOfSpatialSamples 2048)\n",
      "  (Optimizer \"AdaptiveStochasticGradientDescent\")\n",
      "  (Registration \"MultiResolutionRegistration\")\n",
      "  (ResampleInterpolator \"FinalBSplineInterpolator\")\n",
      "  (Resampler \"DefaultResampler\")\n",
      "  (ResultImageFormat \"mhd\")\n",
      "  (ResultImagePixelType \"float\")\n",
      "  (Transform \"BSplineTransform\")\n",
      "  (UseDirectionCosines \"true\")\n",
      "  (WriteIterationInfo \"false\")\n",
      "  (WriteResultImage \"true\")\n",
      "\n"
     ]
    },
    {
     "name": "stderr",
     "output_type": "stream",
     "text": [
      "\n"
     ]
    },
    {
     "ename": "RuntimeError",
     "evalue": "D:\\a\\im\\_skbuild\\win-amd64-3.7\\cmake-build\\_deps\\elx-src\\Core\\Main\\itkElastixRegistrationMethod.hxx:267:\nITK ERROR: ElastixRegistrationMethod(000001DED8A235E0): Internal elastix error: See elastix log (use LogToConsoleOn() or LogToFileOn()).",
     "output_type": "error",
     "traceback": [
      "\u001b[1;31m---------------------------------------------------------------------------\u001b[0m",
      "\u001b[1;31mRuntimeError\u001b[0m                              Traceback (most recent call last)",
      "\u001b[1;32m<ipython-input-3-7ea27e869be1>\u001b[0m in \u001b[0;36m<module>\u001b[1;34m()\u001b[0m\n\u001b[0;32m      1\u001b[0m \u001b[1;31m# Model-driven registration\u001b[0m\u001b[1;33m\u001b[0m\u001b[1;33m\u001b[0m\u001b[1;33m\u001b[0m\u001b[0m\n\u001b[0;32m      2\u001b[0m \u001b[0mregistration\u001b[0m \u001b[1;33m=\u001b[0m \u001b[0mMotionCorrection\u001b[0m\u001b[1;33m(\u001b[0m\u001b[0mmagnitude_corrected\u001b[0m\u001b[1;33m,\u001b[0m \u001b[0maffine\u001b[0m\u001b[1;33m,\u001b[0m \u001b[1;34m'T1_Moco'\u001b[0m\u001b[1;33m,\u001b[0m \u001b[0mlist_input_parameters\u001b[0m\u001b[1;33m,\u001b[0m \u001b[0mconvergence\u001b[0m\u001b[1;33m=\u001b[0m\u001b[1;36m3\u001b[0m\u001b[1;33m,\u001b[0m \u001b[0mmultithread\u001b[0m\u001b[1;33m=\u001b[0m\u001b[1;32mFalse\u001b[0m\u001b[1;33m,\u001b[0m \u001b[0mlog\u001b[0m\u001b[1;33m=\u001b[0m\u001b[1;32mTrue\u001b[0m\u001b[1;33m)\u001b[0m\u001b[1;33m\u001b[0m\u001b[1;33m\u001b[0m\u001b[0m\n\u001b[1;32m----> 3\u001b[1;33m \u001b[0mregistration\u001b[0m\u001b[1;33m.\u001b[0m\u001b[0mrun\u001b[0m\u001b[1;33m(\u001b[0m\u001b[1;33m)\u001b[0m\u001b[1;33m\u001b[0m\u001b[1;33m\u001b[0m\u001b[0m\n\u001b[0m",
      "\u001b[1;32mc:\\users\\md1jgra\\desktop\\ukat\\ukat\\moco\\mdr.py\u001b[0m in \u001b[0;36mrun\u001b[1;34m(self)\u001b[0m\n\u001b[0;32m     70\u001b[0m                                                \u001b[0mparallel\u001b[0m\u001b[1;33m=\u001b[0m\u001b[0mself\u001b[0m\u001b[1;33m.\u001b[0m\u001b[0mmultithread\u001b[0m\u001b[1;33m,\u001b[0m\u001b[1;33m\u001b[0m\u001b[1;33m\u001b[0m\u001b[0m\n\u001b[0;32m     71\u001b[0m                                                \u001b[0mfunction\u001b[0m\u001b[1;33m=\u001b[0m\u001b[0mself\u001b[0m\u001b[1;33m.\u001b[0m\u001b[0mfunction\u001b[0m\u001b[1;33m,\u001b[0m\u001b[1;33m\u001b[0m\u001b[1;33m\u001b[0m\u001b[0m\n\u001b[1;32m---> 72\u001b[1;33m                                                log=self.log)\n\u001b[0m\u001b[0;32m     73\u001b[0m             \u001b[0mself\u001b[0m\u001b[1;33m.\u001b[0m\u001b[0mmdr_results\u001b[0m \u001b[1;33m=\u001b[0m \u001b[0moutput\u001b[0m\u001b[1;33m\u001b[0m\u001b[1;33m\u001b[0m\u001b[0m\n\u001b[0;32m     74\u001b[0m         \u001b[1;32mif\u001b[0m \u001b[0mlen\u001b[0m\u001b[1;33m(\u001b[0m\u001b[0mself\u001b[0m\u001b[1;33m.\u001b[0m\u001b[0mshape\u001b[0m\u001b[1;33m)\u001b[0m \u001b[1;33m==\u001b[0m \u001b[1;36m4\u001b[0m\u001b[1;33m:\u001b[0m\u001b[1;33m\u001b[0m\u001b[1;33m\u001b[0m\u001b[0m\n",
      "\u001b[1;32m~\\AppData\\Local\\Programs\\Python\\Python37\\lib\\site-packages\\MDR\\MDR.py\u001b[0m in \u001b[0;36mmodel_driven_registration\u001b[1;34m(images, image_parameters, model, signal_model_parameters, elastix_model_parameters, precision, function, parallel, log)\u001b[0m\n\u001b[0;32m     58\u001b[0m         \u001b[0mfit\u001b[0m \u001b[1;33m=\u001b[0m \u001b[0mnp\u001b[0m\u001b[1;33m.\u001b[0m\u001b[0mreshape\u001b[0m\u001b[1;33m(\u001b[0m\u001b[0mfit\u001b[0m\u001b[1;33m,\u001b[0m\u001b[1;33m(\u001b[0m\u001b[0mshape\u001b[0m\u001b[1;33m[\u001b[0m\u001b[1;36m0\u001b[0m\u001b[1;33m]\u001b[0m\u001b[1;33m,\u001b[0m\u001b[0mshape\u001b[0m\u001b[1;33m[\u001b[0m\u001b[1;36m1\u001b[0m\u001b[1;33m]\u001b[0m\u001b[1;33m,\u001b[0m\u001b[0mshape\u001b[0m\u001b[1;33m[\u001b[0m\u001b[1;36m2\u001b[0m\u001b[1;33m]\u001b[0m\u001b[1;33m)\u001b[0m\u001b[1;33m)\u001b[0m\u001b[1;33m\u001b[0m\u001b[1;33m\u001b[0m\u001b[0m\n\u001b[0;32m     59\u001b[0m         \u001b[1;31m# perform 2D image registration\u001b[0m\u001b[1;33m\u001b[0m\u001b[1;33m\u001b[0m\u001b[1;33m\u001b[0m\u001b[0m\n\u001b[1;32m---> 60\u001b[1;33m         \u001b[0mcoregistered\u001b[0m\u001b[1;33m,\u001b[0m \u001b[0mnew_deformation_field\u001b[0m \u001b[1;33m=\u001b[0m \u001b[0mfit_coregistration\u001b[0m\u001b[1;33m(\u001b[0m\u001b[0mfit\u001b[0m\u001b[1;33m,\u001b[0m \u001b[0mimages\u001b[0m\u001b[1;33m,\u001b[0m \u001b[0mimage_parameters\u001b[0m\u001b[1;33m,\u001b[0m \u001b[0melastix_model_parameters\u001b[0m\u001b[1;33m,\u001b[0m \u001b[0mparallel\u001b[0m\u001b[1;33m=\u001b[0m\u001b[0mparallel\u001b[0m\u001b[1;33m,\u001b[0m \u001b[0mlog\u001b[0m\u001b[1;33m=\u001b[0m\u001b[0mlog\u001b[0m\u001b[1;33m)\u001b[0m\u001b[1;33m\u001b[0m\u001b[1;33m\u001b[0m\u001b[0m\n\u001b[0m\u001b[0;32m     61\u001b[0m         \u001b[1;31m# check convergence\u001b[0m\u001b[1;33m\u001b[0m\u001b[1;33m\u001b[0m\u001b[1;33m\u001b[0m\u001b[0m\n\u001b[0;32m     62\u001b[0m         \u001b[0mimprovement\u001b[0m\u001b[1;33m.\u001b[0m\u001b[0mappend\u001b[0m\u001b[1;33m(\u001b[0m\u001b[0mmaximum_deformation_per_pixel\u001b[0m\u001b[1;33m(\u001b[0m\u001b[0mdeformation_field\u001b[0m\u001b[1;33m,\u001b[0m \u001b[0mnew_deformation_field\u001b[0m\u001b[1;33m)\u001b[0m\u001b[1;33m)\u001b[0m\u001b[1;33m\u001b[0m\u001b[1;33m\u001b[0m\u001b[0m\n",
      "\u001b[1;32m~\\AppData\\Local\\Programs\\Python\\Python37\\lib\\site-packages\\MDR\\MDR.py\u001b[0m in \u001b[0;36mfit_coregistration\u001b[1;34m(fit, images, image_parameters, elastix_model_parameters, parallel, log)\u001b[0m\n\u001b[0;32m    103\u001b[0m     \u001b[1;32mif\u001b[0m \u001b[0mparallel\u001b[0m \u001b[1;33m==\u001b[0m \u001b[1;32mFalse\u001b[0m\u001b[1;33m:\u001b[0m\u001b[1;33m\u001b[0m\u001b[1;33m\u001b[0m\u001b[0m\n\u001b[0;32m    104\u001b[0m         \u001b[1;32mfor\u001b[0m \u001b[0mt\u001b[0m \u001b[1;32min\u001b[0m \u001b[0mtqdm\u001b[0m\u001b[1;33m(\u001b[0m\u001b[0mrange\u001b[0m\u001b[1;33m(\u001b[0m\u001b[0mshape\u001b[0m\u001b[1;33m[\u001b[0m\u001b[1;36m2\u001b[0m\u001b[1;33m]\u001b[0m\u001b[1;33m)\u001b[0m\u001b[1;33m,\u001b[0m \u001b[0mdesc\u001b[0m\u001b[1;33m=\u001b[0m\u001b[1;34m'Co-registration progress'\u001b[0m\u001b[1;33m)\u001b[0m\u001b[1;33m:\u001b[0m \u001b[1;31m#dynamics\u001b[0m\u001b[1;33m\u001b[0m\u001b[1;33m\u001b[0m\u001b[0m\n\u001b[1;32m--> 105\u001b[1;33m             \u001b[0mcoregistered\u001b[0m\u001b[1;33m[\u001b[0m\u001b[1;33m:\u001b[0m\u001b[1;33m,\u001b[0m\u001b[0mt\u001b[0m\u001b[1;33m]\u001b[0m\u001b[1;33m,\u001b[0m \u001b[0mdeformation_field\u001b[0m\u001b[1;33m[\u001b[0m\u001b[1;33m:\u001b[0m\u001b[1;33m,\u001b[0m\u001b[1;33m:\u001b[0m\u001b[1;33m,\u001b[0m\u001b[0mt\u001b[0m\u001b[1;33m]\u001b[0m \u001b[1;33m=\u001b[0m \u001b[0mitkElastix_MDR_coregistration\u001b[0m\u001b[1;33m(\u001b[0m\u001b[0mimages\u001b[0m\u001b[1;33m[\u001b[0m\u001b[1;33m:\u001b[0m\u001b[1;33m,\u001b[0m\u001b[1;33m:\u001b[0m\u001b[1;33m,\u001b[0m\u001b[0mt\u001b[0m\u001b[1;33m]\u001b[0m\u001b[1;33m,\u001b[0m \u001b[0mfit\u001b[0m\u001b[1;33m[\u001b[0m\u001b[1;33m:\u001b[0m\u001b[1;33m,\u001b[0m\u001b[1;33m:\u001b[0m\u001b[1;33m,\u001b[0m\u001b[0mt\u001b[0m\u001b[1;33m]\u001b[0m\u001b[1;33m,\u001b[0m \u001b[0melastix_model_parameters\u001b[0m\u001b[1;33m,\u001b[0m \u001b[0mimage_parameters\u001b[0m\u001b[1;33m,\u001b[0m \u001b[0mparallel\u001b[0m\u001b[1;33m=\u001b[0m\u001b[1;32mFalse\u001b[0m\u001b[1;33m,\u001b[0m \u001b[0mlog\u001b[0m\u001b[1;33m=\u001b[0m\u001b[0mlog\u001b[0m\u001b[1;33m)\u001b[0m\u001b[1;33m\u001b[0m\u001b[1;33m\u001b[0m\u001b[0m\n\u001b[0m\u001b[0;32m    106\u001b[0m     \u001b[1;32melse\u001b[0m\u001b[1;33m:\u001b[0m\u001b[1;33m\u001b[0m\u001b[1;33m\u001b[0m\u001b[0m\n\u001b[0;32m    107\u001b[0m         \u001b[0mpool\u001b[0m \u001b[1;33m=\u001b[0m \u001b[0mmultiprocessing\u001b[0m\u001b[1;33m.\u001b[0m\u001b[0mPool\u001b[0m\u001b[1;33m(\u001b[0m\u001b[0mprocesses\u001b[0m\u001b[1;33m=\u001b[0m\u001b[0mos\u001b[0m\u001b[1;33m.\u001b[0m\u001b[0mcpu_count\u001b[0m\u001b[1;33m(\u001b[0m\u001b[1;33m)\u001b[0m\u001b[1;33m-\u001b[0m\u001b[1;36m1\u001b[0m\u001b[1;33m)\u001b[0m\u001b[1;33m\u001b[0m\u001b[1;33m\u001b[0m\u001b[0m\n",
      "\u001b[1;32m~\\AppData\\Local\\Programs\\Python\\Python37\\lib\\site-packages\\MDR\\MDR.py\u001b[0m in \u001b[0;36mitkElastix_MDR_coregistration\u001b[1;34m(target, source, elastix_model_parameters, image_parameters, parallel, log)\u001b[0m\n\u001b[0;32m    209\u001b[0m \u001b[1;33m\u001b[0m\u001b[0m\n\u001b[0;32m    210\u001b[0m     \u001b[1;31m## update filter object (required)\u001b[0m\u001b[1;33m\u001b[0m\u001b[1;33m\u001b[0m\u001b[1;33m\u001b[0m\u001b[0m\n\u001b[1;32m--> 211\u001b[1;33m     \u001b[0melastixImageFilter\u001b[0m\u001b[1;33m.\u001b[0m\u001b[0mUpdateLargestPossibleRegion\u001b[0m\u001b[1;33m(\u001b[0m\u001b[1;33m)\u001b[0m\u001b[1;33m\u001b[0m\u001b[1;33m\u001b[0m\u001b[0m\n\u001b[0m\u001b[0;32m    212\u001b[0m \u001b[1;33m\u001b[0m\u001b[0m\n\u001b[0;32m    213\u001b[0m     \u001b[1;31m## RUN ELASTIX using ITK-Elastix filters\u001b[0m\u001b[1;33m\u001b[0m\u001b[1;33m\u001b[0m\u001b[1;33m\u001b[0m\u001b[0m\n",
      "\u001b[1;31mRuntimeError\u001b[0m: D:\\a\\im\\_skbuild\\win-amd64-3.7\\cmake-build\\_deps\\elx-src\\Core\\Main\\itkElastixRegistrationMethod.hxx:267:\nITK ERROR: ElastixRegistrationMethod(000001DED8A235E0): Internal elastix error: See elastix log (use LogToConsoleOn() or LogToFileOn())."
     ]
    }
   ],
   "source": [
    "# Model-driven registration\n",
    "registration = MotionCorrection(magnitude_corrected, affine, 'T1_Moco', list_input_parameters, convergence=3, multithread=False, log=True)\n",
    "registration.run()"
   ]
  },
  {
   "cell_type": "code",
   "execution_count": null,
   "metadata": {},
   "outputs": [],
   "source": [
    "# Get the coregistered input pixel_array\n",
    "moco_array = registration.get_coregistered()\n",
    "# Save motion corrected T1 sequence to NIfTI\n",
    "registration.to_nifti(output_directory=OUTPUT_DIR, base_file_name='T1_motion_corrected', maps=['coregistered', 'fitted', 'deformation_field', 'params'])"
   ]
  },
  {
   "cell_type": "code",
   "execution_count": null,
   "metadata": {
    "collapsed": false,
    "pycharm": {
     "name": "#%%\n"
    }
   },
   "outputs": [],
   "source": [
    "# Calculate maps from the original T1 sequence save as niftis\n",
    "t1_mapper = T1(magnitude_corrected, ti, affine=affine, multithread=True, parameters=2)\n",
    "t1_mapper.to_nifti(output_directory=OUTPUT_DIR, base_file_name='T1_original', maps='all')\n",
    "\n",
    "# Calculate maps from the motion corrected T1 sequence and save as niftis\n",
    "t1_moco_mapper = T1(moco_array, ti, affine=affine, multithread=True, parameters=2)\n",
    "t1_moco_mapper.to_nifti(output_directory=OUTPUT_DIR, base_file_name='T1_moco', maps='all')"
   ]
  },
  {
   "cell_type": "code",
   "execution_count": null,
   "metadata": {
    "collapsed": false,
    "pycharm": {
     "name": "#%%\n"
    }
   },
   "outputs": [],
   "source": [
    "fig, ax = plt.subplots(2, 1)\n",
    "\n",
    "# Display the T1 map generated from the original data\n",
    "im = ax.imshow(np.rot90(t1_mapper.t1_map[:, :, 2]), cmap='inferno', clim=(250, 2250))\n",
    "cb = fig.colorbar(im, ax=ax[0, 0])\n",
    "cb.set_label('$T_1 Original$ (ms)')\n",
    "ax[0,0].axis('off')\n",
    "\n",
    "# Display the T1 map generated from the motion corrected data\n",
    "im = ax.imshow(np.rot90(t1_moco_mapper.t1_map[:, :, 2]), cmap='inferno', clim=(250, 2250))\n",
    "cb = fig.colorbar(im, ax=ax[1, 0])\n",
    "cb.set_label('$T_1 Moco$ (ms)')\n",
    "ax[1,0].axis('off')\n",
    "\n",
    "plt.show()"
   ]
  }
 ],
 "metadata": {
  "kernelspec": {
   "display_name": "Python 3",
   "language": "python",
   "name": "python3"
  },
  "language_info": {
   "codemirror_mode": {
    "name": "ipython",
    "version": 3
   },
   "file_extension": ".py",
   "mimetype": "text/x-python",
   "name": "python",
   "nbconvert_exporter": "python",
   "pygments_lexer": "ipython3",
   "version": "3.7.9"
  }
 },
 "nbformat": 4,
 "nbformat_minor": 0
}
