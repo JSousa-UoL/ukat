{
 "cells": [
  {
   "cell_type": "markdown",
   "metadata": {
    "collapsed": true,
    "pycharm": {
     "name": "#%% md\n"
    }
   },
   "source": [
    "# T1 motion correction tutorial"
   ]
  },
  {
   "cell_type": "markdown",
   "metadata": {
    "collapsed": false
   },
   "source": [
    "Start by importing the required libraries and defining some settings:"
   ]
  },
  {
   "cell_type": "code",
   "execution_count": 1,
   "metadata": {
    "collapsed": false,
    "pycharm": {
     "name": "#%%\n"
    }
   },
   "outputs": [],
   "source": [
    "import os\n",
    "import numpy as np\n",
    "import matplotlib.pyplot as plt\n",
    "\n",
    "from ukat.data import fetch\n",
    "from ukat.utils.tools import convert_to_pi_range\n",
    "from ukat.mapping.t1 import T1, magnitude_correct\n",
    "from ukat.moco.mdr import MotionCorrection\n",
    "\n",
    "# Ensure figures are rendered in the notebook\n",
    "%matplotlib inline\n",
    "\n",
    "# Initialise output path for the Model-Driven Registration process\n",
    "directory = 't1_motion_correction_output'\n",
    "os.makedirs(directory, exist_ok=True)\n",
    "OUTPUT_DIR = os.path.join(os.getcwd(), directory)"
   ]
  },
  {
   "cell_type": "code",
   "execution_count": 17,
   "metadata": {
    "collapsed": false,
    "pycharm": {
     "name": "#%%\n"
    }
   },
   "outputs": [
    {
     "name": "stdout",
     "output_type": "stream",
     "text": [
      "(58, 58, 18)\n"
     ]
    },
    {
     "name": "stderr",
     "output_type": "stream",
     "text": [
      "invalid value encountered in true_divide\n",
      "invalid value encountered in true_divide\n",
      "invalid value encountered in log\n"
     ]
    }
   ],
   "source": [
    "# Fetch test data\n",
    "# We will process on a central slice only\n",
    "magnitude, phase, affine, ti, tss = fetch.t1_philips(2)\n",
    "# Pre-processing as preparation for the Model-Driven Registration process\n",
    "magnitude = magnitude[:, :, 3, :]\n",
    "phase = phase[:, :, 3, :]\n",
    "phase = convert_to_pi_range(phase)\n",
    "complex_data = magnitude * (np.cos(phase) + 1j * np.sin(phase)) # convert magnitude and phase into complex data\n",
    "ti = np.array(ti) * 1000  # convert TIs to ms\n",
    "magnitude_corrected = np.squeeze(magnitude_correct(complex_data))\n",
    "magnitude_corrected = magnitude_corrected[70:160, 70:160, :]\n",
    "print(np.shape(magnitude_corrected))\n",
    "list_input_parameters = [affine, ti, 0, None, None, 2, False]"
   ]
  },
  {
   "cell_type": "code",
   "execution_count": 18,
   "metadata": {},
   "outputs": [
    {
     "name": "stderr",
     "output_type": "stream",
     "text": [
      "100%|██████████| 2742/2742 [00:12<00:00, 217.67it/s]\n",
      "divide by zero encountered in true_divide\n",
      "Co-registration progress:   0%|          | 0/18 [00:00<?, ?it/s]"
     ]
    },
    {
     "name": "stdout",
     "output_type": "stream",
     "text": [
      "Parameter Map: \n",
      "ParameterObject (0000021FBC6B62B0)\n",
      "  RTTI typeinfo:   class elastix::ParameterObject\n",
      "  Reference Count: 2\n",
      "  Modified Time: 16733\n",
      "  Debug: Off\n",
      "  Object Name: \n",
      "  Observers: \n",
      "    none\n",
      "ParameterMap 0: \n",
      "  (ASGDParameterEstimationMethod \"Original\")\n",
      "  (AutomaticParameterEstimation \"true\")\n",
      "  (BSplineInterpolationOrder 1)\n",
      "  (CheckNumberOfSamples \"true\")\n",
      "  (DefaultPixelValue 0)\n",
      "  (ErodeFixedMask \"false\")\n",
      "  (ErodeMask \"false\")\n",
      "  (FinalBSplineInterpolationOrder 1)\n",
      "  (FinalGridSpacingInPhysicalUnits 50 50)\n",
      "  (FixedImageDimension 2)\n",
      "  (FixedImagePyramid \"FixedSmoothingImagePyramid\")\n",
      "  (FixedInternalImagePixelType \"float\")\n",
      "  (GridSpacingSchedule 2.80322 1.9881 1.41 1)\n",
      "  (HowToCombineTransforms \"Compose\")\n",
      "  (ImageSampler \"RandomCoordinate\")\n",
      "  (Interpolator \"BSplineInterpolator\")\n",
      "  (MaximumNumberOfIterations 500)\n",
      "  (MaximumNumberOfSamplingAttempts 8)\n",
      "  (MaximumStepLength 0.1)\n",
      "  (Metric \"AdvancedMeanSquares\")\n",
      "  (Metric0Weight 1)\n",
      "  (Metric1Weight 1)\n",
      "  (MovingImageDimension 2)\n",
      "  (MovingImagePyramid \"MovingSmoothingImagePyramid\")\n",
      "  (MovingInternalImagePixelType \"float\")\n",
      "  (NewSamplesEveryIteration \"true\")\n",
      "  (NumberOfHistogramBins 32)\n",
      "  (NumberOfResolutions 4)\n",
      "  (NumberOfSamplesForExactGradient 4096)\n",
      "  (NumberOfSpatialSamples 2048)\n",
      "  (Optimizer \"AdaptiveStochasticGradientDescent\")\n",
      "  (Registration \"MultiResolutionRegistration\")\n",
      "  (ResampleInterpolator \"FinalBSplineInterpolator\")\n",
      "  (Resampler \"DefaultResampler\")\n",
      "  (ResultImageFormat \"mhd\")\n",
      "  (ResultImagePixelType \"float\")\n",
      "  (Transform \"BSplineTransform\")\n",
      "  (UseDirectionCosines \"true\")\n",
      "  (WriteIterationInfo \"false\")\n",
      "  (WriteResultImage \"true\")\n",
      "\n"
     ]
    },
    {
     "name": "stderr",
     "output_type": "stream",
     "text": [
      "Co-registration progress:   6%|▌         | 1/18 [00:02<00:46,  2.71s/it]"
     ]
    },
    {
     "name": "stdout",
     "output_type": "stream",
     "text": [
      "Parameter Map: \n",
      "ParameterObject (0000021FBC6B62B0)\n",
      "  RTTI typeinfo:   class elastix::ParameterObject\n",
      "  Reference Count: 2\n",
      "  Modified Time: 16733\n",
      "  Debug: Off\n",
      "  Object Name: \n",
      "  Observers: \n",
      "    none\n",
      "ParameterMap 0: \n",
      "  (ASGDParameterEstimationMethod \"Original\")\n",
      "  (AutomaticParameterEstimation \"true\")\n",
      "  (BSplineInterpolationOrder 1)\n",
      "  (CheckNumberOfSamples \"true\")\n",
      "  (DefaultPixelValue 0)\n",
      "  (ErodeFixedMask \"false\")\n",
      "  (ErodeMask \"false\")\n",
      "  (FinalBSplineInterpolationOrder 1)\n",
      "  (FinalGridSpacingInPhysicalUnits 50 50)\n",
      "  (FixedImageDimension 2)\n",
      "  (FixedImagePyramid \"FixedSmoothingImagePyramid\")\n",
      "  (FixedInternalImagePixelType \"float\")\n",
      "  (GridSpacingSchedule 2.80322 1.9881 1.41 1)\n",
      "  (HowToCombineTransforms \"Compose\")\n",
      "  (ImageSampler \"RandomCoordinate\")\n",
      "  (Interpolator \"BSplineInterpolator\")\n",
      "  (MaximumNumberOfIterations 500)\n",
      "  (MaximumNumberOfSamplingAttempts 8)\n",
      "  (MaximumStepLength 0.1)\n",
      "  (Metric \"AdvancedMeanSquares\")\n",
      "  (Metric0Weight 1)\n",
      "  (Metric1Weight 1)\n",
      "  (MovingImageDimension 2)\n",
      "  (MovingImagePyramid \"MovingSmoothingImagePyramid\")\n",
      "  (MovingInternalImagePixelType \"float\")\n",
      "  (NewSamplesEveryIteration \"true\")\n",
      "  (NumberOfHistogramBins 32)\n",
      "  (NumberOfResolutions 4)\n",
      "  (NumberOfSamplesForExactGradient 4096)\n",
      "  (NumberOfSpatialSamples 2048)\n",
      "  (Optimizer \"AdaptiveStochasticGradientDescent\")\n",
      "  (Registration \"MultiResolutionRegistration\")\n",
      "  (ResampleInterpolator \"FinalBSplineInterpolator\")\n",
      "  (Resampler \"DefaultResampler\")\n",
      "  (ResultImageFormat \"mhd\")\n",
      "  (ResultImagePixelType \"float\")\n",
      "  (Transform \"BSplineTransform\")\n",
      "  (UseDirectionCosines \"true\")\n",
      "  (WriteIterationInfo \"false\")\n",
      "  (WriteResultImage \"true\")\n",
      "\n"
     ]
    },
    {
     "name": "stderr",
     "output_type": "stream",
     "text": [
      "Co-registration progress:  11%|█         | 2/18 [00:05<00:46,  2.92s/it]"
     ]
    },
    {
     "name": "stdout",
     "output_type": "stream",
     "text": [
      "Parameter Map: \n",
      "ParameterObject (0000021FBC6B62B0)\n",
      "  RTTI typeinfo:   class elastix::ParameterObject\n",
      "  Reference Count: 2\n",
      "  Modified Time: 16733\n",
      "  Debug: Off\n",
      "  Object Name: \n",
      "  Observers: \n",
      "    none\n",
      "ParameterMap 0: \n",
      "  (ASGDParameterEstimationMethod \"Original\")\n",
      "  (AutomaticParameterEstimation \"true\")\n",
      "  (BSplineInterpolationOrder 1)\n",
      "  (CheckNumberOfSamples \"true\")\n",
      "  (DefaultPixelValue 0)\n",
      "  (ErodeFixedMask \"false\")\n",
      "  (ErodeMask \"false\")\n",
      "  (FinalBSplineInterpolationOrder 1)\n",
      "  (FinalGridSpacingInPhysicalUnits 50 50)\n",
      "  (FixedImageDimension 2)\n",
      "  (FixedImagePyramid \"FixedSmoothingImagePyramid\")\n",
      "  (FixedInternalImagePixelType \"float\")\n",
      "  (GridSpacingSchedule 2.80322 1.9881 1.41 1)\n",
      "  (HowToCombineTransforms \"Compose\")\n",
      "  (ImageSampler \"RandomCoordinate\")\n",
      "  (Interpolator \"BSplineInterpolator\")\n",
      "  (MaximumNumberOfIterations 500)\n",
      "  (MaximumNumberOfSamplingAttempts 8)\n",
      "  (MaximumStepLength 0.1)\n",
      "  (Metric \"AdvancedMeanSquares\")\n",
      "  (Metric0Weight 1)\n",
      "  (Metric1Weight 1)\n",
      "  (MovingImageDimension 2)\n",
      "  (MovingImagePyramid \"MovingSmoothingImagePyramid\")\n",
      "  (MovingInternalImagePixelType \"float\")\n",
      "  (NewSamplesEveryIteration \"true\")\n",
      "  (NumberOfHistogramBins 32)\n",
      "  (NumberOfResolutions 4)\n",
      "  (NumberOfSamplesForExactGradient 4096)\n",
      "  (NumberOfSpatialSamples 2048)\n",
      "  (Optimizer \"AdaptiveStochasticGradientDescent\")\n",
      "  (Registration \"MultiResolutionRegistration\")\n",
      "  (ResampleInterpolator \"FinalBSplineInterpolator\")\n",
      "  (Resampler \"DefaultResampler\")\n",
      "  (ResultImageFormat \"mhd\")\n",
      "  (ResultImagePixelType \"float\")\n",
      "  (Transform \"BSplineTransform\")\n",
      "  (UseDirectionCosines \"true\")\n",
      "  (WriteIterationInfo \"false\")\n",
      "  (WriteResultImage \"true\")\n",
      "\n"
     ]
    },
    {
     "name": "stderr",
     "output_type": "stream",
     "text": [
      "Co-registration progress:  17%|█▋        | 3/18 [00:08<00:43,  2.93s/it]"
     ]
    },
    {
     "name": "stdout",
     "output_type": "stream",
     "text": [
      "Parameter Map: \n",
      "ParameterObject (0000021FBC6B62B0)\n",
      "  RTTI typeinfo:   class elastix::ParameterObject\n",
      "  Reference Count: 2\n",
      "  Modified Time: 16733\n",
      "  Debug: Off\n",
      "  Object Name: \n",
      "  Observers: \n",
      "    none\n",
      "ParameterMap 0: \n",
      "  (ASGDParameterEstimationMethod \"Original\")\n",
      "  (AutomaticParameterEstimation \"true\")\n",
      "  (BSplineInterpolationOrder 1)\n",
      "  (CheckNumberOfSamples \"true\")\n",
      "  (DefaultPixelValue 0)\n",
      "  (ErodeFixedMask \"false\")\n",
      "  (ErodeMask \"false\")\n",
      "  (FinalBSplineInterpolationOrder 1)\n",
      "  (FinalGridSpacingInPhysicalUnits 50 50)\n",
      "  (FixedImageDimension 2)\n",
      "  (FixedImagePyramid \"FixedSmoothingImagePyramid\")\n",
      "  (FixedInternalImagePixelType \"float\")\n",
      "  (GridSpacingSchedule 2.80322 1.9881 1.41 1)\n",
      "  (HowToCombineTransforms \"Compose\")\n",
      "  (ImageSampler \"RandomCoordinate\")\n",
      "  (Interpolator \"BSplineInterpolator\")\n",
      "  (MaximumNumberOfIterations 500)\n",
      "  (MaximumNumberOfSamplingAttempts 8)\n",
      "  (MaximumStepLength 0.1)\n",
      "  (Metric \"AdvancedMeanSquares\")\n",
      "  (Metric0Weight 1)\n",
      "  (Metric1Weight 1)\n",
      "  (MovingImageDimension 2)\n",
      "  (MovingImagePyramid \"MovingSmoothingImagePyramid\")\n",
      "  (MovingInternalImagePixelType \"float\")\n",
      "  (NewSamplesEveryIteration \"true\")\n",
      "  (NumberOfHistogramBins 32)\n",
      "  (NumberOfResolutions 4)\n",
      "  (NumberOfSamplesForExactGradient 4096)\n",
      "  (NumberOfSpatialSamples 2048)\n",
      "  (Optimizer \"AdaptiveStochasticGradientDescent\")\n",
      "  (Registration \"MultiResolutionRegistration\")\n",
      "  (ResampleInterpolator \"FinalBSplineInterpolator\")\n",
      "  (Resampler \"DefaultResampler\")\n",
      "  (ResultImageFormat \"mhd\")\n",
      "  (ResultImagePixelType \"float\")\n",
      "  (Transform \"BSplineTransform\")\n",
      "  (UseDirectionCosines \"true\")\n",
      "  (WriteIterationInfo \"false\")\n",
      "  (WriteResultImage \"true\")\n",
      "\n"
     ]
    },
    {
     "name": "stderr",
     "output_type": "stream",
     "text": [
      "Co-registration progress:  22%|██▏       | 4/18 [00:11<00:40,  2.86s/it]"
     ]
    },
    {
     "name": "stdout",
     "output_type": "stream",
     "text": [
      "Parameter Map: \n",
      "ParameterObject (0000021FBC6B62B0)\n",
      "  RTTI typeinfo:   class elastix::ParameterObject\n",
      "  Reference Count: 2\n",
      "  Modified Time: 16733\n",
      "  Debug: Off\n",
      "  Object Name: \n",
      "  Observers: \n",
      "    none\n",
      "ParameterMap 0: \n",
      "  (ASGDParameterEstimationMethod \"Original\")\n",
      "  (AutomaticParameterEstimation \"true\")\n",
      "  (BSplineInterpolationOrder 1)\n",
      "  (CheckNumberOfSamples \"true\")\n",
      "  (DefaultPixelValue 0)\n",
      "  (ErodeFixedMask \"false\")\n",
      "  (ErodeMask \"false\")\n",
      "  (FinalBSplineInterpolationOrder 1)\n",
      "  (FinalGridSpacingInPhysicalUnits 50 50)\n",
      "  (FixedImageDimension 2)\n",
      "  (FixedImagePyramid \"FixedSmoothingImagePyramid\")\n",
      "  (FixedInternalImagePixelType \"float\")\n",
      "  (GridSpacingSchedule 2.80322 1.9881 1.41 1)\n",
      "  (HowToCombineTransforms \"Compose\")\n",
      "  (ImageSampler \"RandomCoordinate\")\n",
      "  (Interpolator \"BSplineInterpolator\")\n",
      "  (MaximumNumberOfIterations 500)\n",
      "  (MaximumNumberOfSamplingAttempts 8)\n",
      "  (MaximumStepLength 0.1)\n",
      "  (Metric \"AdvancedMeanSquares\")\n",
      "  (Metric0Weight 1)\n",
      "  (Metric1Weight 1)\n",
      "  (MovingImageDimension 2)\n",
      "  (MovingImagePyramid \"MovingSmoothingImagePyramid\")\n",
      "  (MovingInternalImagePixelType \"float\")\n",
      "  (NewSamplesEveryIteration \"true\")\n",
      "  (NumberOfHistogramBins 32)\n",
      "  (NumberOfResolutions 4)\n",
      "  (NumberOfSamplesForExactGradient 4096)\n",
      "  (NumberOfSpatialSamples 2048)\n",
      "  (Optimizer \"AdaptiveStochasticGradientDescent\")\n",
      "  (Registration \"MultiResolutionRegistration\")\n",
      "  (ResampleInterpolator \"FinalBSplineInterpolator\")\n",
      "  (Resampler \"DefaultResampler\")\n",
      "  (ResultImageFormat \"mhd\")\n",
      "  (ResultImagePixelType \"float\")\n",
      "  (Transform \"BSplineTransform\")\n",
      "  (UseDirectionCosines \"true\")\n",
      "  (WriteIterationInfo \"false\")\n",
      "  (WriteResultImage \"true\")\n",
      "\n"
     ]
    },
    {
     "name": "stderr",
     "output_type": "stream",
     "text": [
      "Co-registration progress:  28%|██▊       | 5/18 [00:14<00:37,  2.87s/it]"
     ]
    },
    {
     "name": "stdout",
     "output_type": "stream",
     "text": [
      "Parameter Map: \n",
      "ParameterObject (0000021FBC6B62B0)\n",
      "  RTTI typeinfo:   class elastix::ParameterObject\n",
      "  Reference Count: 2\n",
      "  Modified Time: 16733\n",
      "  Debug: Off\n",
      "  Object Name: \n",
      "  Observers: \n",
      "    none\n",
      "ParameterMap 0: \n",
      "  (ASGDParameterEstimationMethod \"Original\")\n",
      "  (AutomaticParameterEstimation \"true\")\n",
      "  (BSplineInterpolationOrder 1)\n",
      "  (CheckNumberOfSamples \"true\")\n",
      "  (DefaultPixelValue 0)\n",
      "  (ErodeFixedMask \"false\")\n",
      "  (ErodeMask \"false\")\n",
      "  (FinalBSplineInterpolationOrder 1)\n",
      "  (FinalGridSpacingInPhysicalUnits 50 50)\n",
      "  (FixedImageDimension 2)\n",
      "  (FixedImagePyramid \"FixedSmoothingImagePyramid\")\n",
      "  (FixedInternalImagePixelType \"float\")\n",
      "  (GridSpacingSchedule 2.80322 1.9881 1.41 1)\n",
      "  (HowToCombineTransforms \"Compose\")\n",
      "  (ImageSampler \"RandomCoordinate\")\n",
      "  (Interpolator \"BSplineInterpolator\")\n",
      "  (MaximumNumberOfIterations 500)\n",
      "  (MaximumNumberOfSamplingAttempts 8)\n",
      "  (MaximumStepLength 0.1)\n",
      "  (Metric \"AdvancedMeanSquares\")\n",
      "  (Metric0Weight 1)\n",
      "  (Metric1Weight 1)\n",
      "  (MovingImageDimension 2)\n",
      "  (MovingImagePyramid \"MovingSmoothingImagePyramid\")\n",
      "  (MovingInternalImagePixelType \"float\")\n",
      "  (NewSamplesEveryIteration \"true\")\n",
      "  (NumberOfHistogramBins 32)\n",
      "  (NumberOfResolutions 4)\n",
      "  (NumberOfSamplesForExactGradient 4096)\n",
      "  (NumberOfSpatialSamples 2048)\n",
      "  (Optimizer \"AdaptiveStochasticGradientDescent\")\n",
      "  (Registration \"MultiResolutionRegistration\")\n",
      "  (ResampleInterpolator \"FinalBSplineInterpolator\")\n",
      "  (Resampler \"DefaultResampler\")\n",
      "  (ResultImageFormat \"mhd\")\n",
      "  (ResultImagePixelType \"float\")\n",
      "  (Transform \"BSplineTransform\")\n",
      "  (UseDirectionCosines \"true\")\n",
      "  (WriteIterationInfo \"false\")\n",
      "  (WriteResultImage \"true\")\n",
      "\n"
     ]
    },
    {
     "name": "stderr",
     "output_type": "stream",
     "text": [
      "Co-registration progress:  33%|███▎      | 6/18 [00:17<00:35,  2.98s/it]"
     ]
    },
    {
     "name": "stdout",
     "output_type": "stream",
     "text": [
      "Parameter Map: \n",
      "ParameterObject (0000021FBC6B62B0)\n",
      "  RTTI typeinfo:   class elastix::ParameterObject\n",
      "  Reference Count: 2\n",
      "  Modified Time: 16733\n",
      "  Debug: Off\n",
      "  Object Name: \n",
      "  Observers: \n",
      "    none\n",
      "ParameterMap 0: \n",
      "  (ASGDParameterEstimationMethod \"Original\")\n",
      "  (AutomaticParameterEstimation \"true\")\n",
      "  (BSplineInterpolationOrder 1)\n",
      "  (CheckNumberOfSamples \"true\")\n",
      "  (DefaultPixelValue 0)\n",
      "  (ErodeFixedMask \"false\")\n",
      "  (ErodeMask \"false\")\n",
      "  (FinalBSplineInterpolationOrder 1)\n",
      "  (FinalGridSpacingInPhysicalUnits 50 50)\n",
      "  (FixedImageDimension 2)\n",
      "  (FixedImagePyramid \"FixedSmoothingImagePyramid\")\n",
      "  (FixedInternalImagePixelType \"float\")\n",
      "  (GridSpacingSchedule 2.80322 1.9881 1.41 1)\n",
      "  (HowToCombineTransforms \"Compose\")\n",
      "  (ImageSampler \"RandomCoordinate\")\n",
      "  (Interpolator \"BSplineInterpolator\")\n",
      "  (MaximumNumberOfIterations 500)\n",
      "  (MaximumNumberOfSamplingAttempts 8)\n",
      "  (MaximumStepLength 0.1)\n",
      "  (Metric \"AdvancedMeanSquares\")\n",
      "  (Metric0Weight 1)\n",
      "  (Metric1Weight 1)\n",
      "  (MovingImageDimension 2)\n",
      "  (MovingImagePyramid \"MovingSmoothingImagePyramid\")\n",
      "  (MovingInternalImagePixelType \"float\")\n",
      "  (NewSamplesEveryIteration \"true\")\n",
      "  (NumberOfHistogramBins 32)\n",
      "  (NumberOfResolutions 4)\n",
      "  (NumberOfSamplesForExactGradient 4096)\n",
      "  (NumberOfSpatialSamples 2048)\n",
      "  (Optimizer \"AdaptiveStochasticGradientDescent\")\n",
      "  (Registration \"MultiResolutionRegistration\")\n",
      "  (ResampleInterpolator \"FinalBSplineInterpolator\")\n",
      "  (Resampler \"DefaultResampler\")\n",
      "  (ResultImageFormat \"mhd\")\n",
      "  (ResultImagePixelType \"float\")\n",
      "  (Transform \"BSplineTransform\")\n",
      "  (UseDirectionCosines \"true\")\n",
      "  (WriteIterationInfo \"false\")\n",
      "  (WriteResultImage \"true\")\n",
      "\n"
     ]
    },
    {
     "name": "stderr",
     "output_type": "stream",
     "text": [
      "Co-registration progress:  39%|███▉      | 7/18 [00:20<00:33,  3.03s/it]"
     ]
    },
    {
     "name": "stdout",
     "output_type": "stream",
     "text": [
      "Parameter Map: \n",
      "ParameterObject (0000021FBC6B62B0)\n",
      "  RTTI typeinfo:   class elastix::ParameterObject\n",
      "  Reference Count: 2\n",
      "  Modified Time: 16733\n",
      "  Debug: Off\n",
      "  Object Name: \n",
      "  Observers: \n",
      "    none\n",
      "ParameterMap 0: \n",
      "  (ASGDParameterEstimationMethod \"Original\")\n",
      "  (AutomaticParameterEstimation \"true\")\n",
      "  (BSplineInterpolationOrder 1)\n",
      "  (CheckNumberOfSamples \"true\")\n",
      "  (DefaultPixelValue 0)\n",
      "  (ErodeFixedMask \"false\")\n",
      "  (ErodeMask \"false\")\n",
      "  (FinalBSplineInterpolationOrder 1)\n",
      "  (FinalGridSpacingInPhysicalUnits 50 50)\n",
      "  (FixedImageDimension 2)\n",
      "  (FixedImagePyramid \"FixedSmoothingImagePyramid\")\n",
      "  (FixedInternalImagePixelType \"float\")\n",
      "  (GridSpacingSchedule 2.80322 1.9881 1.41 1)\n",
      "  (HowToCombineTransforms \"Compose\")\n",
      "  (ImageSampler \"RandomCoordinate\")\n",
      "  (Interpolator \"BSplineInterpolator\")\n",
      "  (MaximumNumberOfIterations 500)\n",
      "  (MaximumNumberOfSamplingAttempts 8)\n",
      "  (MaximumStepLength 0.1)\n",
      "  (Metric \"AdvancedMeanSquares\")\n",
      "  (Metric0Weight 1)\n",
      "  (Metric1Weight 1)\n",
      "  (MovingImageDimension 2)\n",
      "  (MovingImagePyramid \"MovingSmoothingImagePyramid\")\n",
      "  (MovingInternalImagePixelType \"float\")\n",
      "  (NewSamplesEveryIteration \"true\")\n",
      "  (NumberOfHistogramBins 32)\n",
      "  (NumberOfResolutions 4)\n",
      "  (NumberOfSamplesForExactGradient 4096)\n",
      "  (NumberOfSpatialSamples 2048)\n",
      "  (Optimizer \"AdaptiveStochasticGradientDescent\")\n",
      "  (Registration \"MultiResolutionRegistration\")\n",
      "  (ResampleInterpolator \"FinalBSplineInterpolator\")\n",
      "  (Resampler \"DefaultResampler\")\n",
      "  (ResultImageFormat \"mhd\")\n",
      "  (ResultImagePixelType \"float\")\n",
      "  (Transform \"BSplineTransform\")\n",
      "  (UseDirectionCosines \"true\")\n",
      "  (WriteIterationInfo \"false\")\n",
      "  (WriteResultImage \"true\")\n",
      "\n"
     ]
    },
    {
     "name": "stderr",
     "output_type": "stream",
     "text": [
      "Co-registration progress:  39%|███▉      | 7/18 [00:23<00:37,  3.42s/it]\n"
     ]
    },
    {
     "ename": "KeyboardInterrupt",
     "evalue": "",
     "output_type": "error",
     "traceback": [
      "\u001b[1;31m---------------------------------------------------------------------------\u001b[0m",
      "\u001b[1;31mKeyboardInterrupt\u001b[0m                         Traceback (most recent call last)",
      "\u001b[1;32m~\\AppData\\Local\\Temp\\ipykernel_16332\\3159653897.py\u001b[0m in \u001b[0;36m<module>\u001b[1;34m\u001b[0m\n\u001b[0;32m      1\u001b[0m \u001b[1;31m# Model-driven registration\u001b[0m\u001b[1;33m\u001b[0m\u001b[1;33m\u001b[0m\u001b[1;33m\u001b[0m\u001b[0m\n\u001b[1;32m----> 2\u001b[1;33m \u001b[0mregistration\u001b[0m \u001b[1;33m=\u001b[0m \u001b[0mMotionCorrection\u001b[0m\u001b[1;33m(\u001b[0m\u001b[0mmagnitude_corrected\u001b[0m\u001b[1;33m,\u001b[0m \u001b[0maffine\u001b[0m\u001b[1;33m,\u001b[0m \u001b[1;34m'T1_Moco'\u001b[0m\u001b[1;33m,\u001b[0m \u001b[0mlist_input_parameters\u001b[0m\u001b[1;33m,\u001b[0m \u001b[0mconvergence\u001b[0m\u001b[1;33m=\u001b[0m\u001b[1;36m1\u001b[0m\u001b[1;33m,\u001b[0m \u001b[0mmultithread\u001b[0m\u001b[1;33m=\u001b[0m\u001b[1;32mFalse\u001b[0m\u001b[1;33m,\u001b[0m \u001b[0mlog\u001b[0m\u001b[1;33m=\u001b[0m\u001b[1;32mTrue\u001b[0m\u001b[1;33m)\u001b[0m\u001b[1;33m\u001b[0m\u001b[1;33m\u001b[0m\u001b[0m\n\u001b[0m",
      "\u001b[1;32mc:\\users\\md1jgra\\desktop\\ukat\\ukat\\moco\\mdr.py\u001b[0m in \u001b[0;36m__init__\u001b[1;34m(self, pixel_array, affine, fitting_function_name, model_input, mask, convergence, elastix_params, multithread, log)\u001b[0m\n\u001b[0;32m     67\u001b[0m                                                \u001b[0mparallel\u001b[0m\u001b[1;33m=\u001b[0m\u001b[0mself\u001b[0m\u001b[1;33m.\u001b[0m\u001b[0mmultithread\u001b[0m\u001b[1;33m,\u001b[0m\u001b[1;33m\u001b[0m\u001b[1;33m\u001b[0m\u001b[0m\n\u001b[0;32m     68\u001b[0m                                                \u001b[0mfunction\u001b[0m\u001b[1;33m=\u001b[0m\u001b[0mself\u001b[0m\u001b[1;33m.\u001b[0m\u001b[0mfunction\u001b[0m\u001b[1;33m,\u001b[0m\u001b[1;33m\u001b[0m\u001b[1;33m\u001b[0m\u001b[0m\n\u001b[1;32m---> 69\u001b[1;33m                                                log=self.log)\n\u001b[0m\u001b[0;32m     70\u001b[0m             \u001b[0mself\u001b[0m\u001b[1;33m.\u001b[0m\u001b[0m_mdr_results\u001b[0m \u001b[1;33m=\u001b[0m \u001b[0moutput\u001b[0m\u001b[1;33m\u001b[0m\u001b[1;33m\u001b[0m\u001b[0m\n\u001b[0;32m     71\u001b[0m         \u001b[1;32mif\u001b[0m \u001b[0mlen\u001b[0m\u001b[1;33m(\u001b[0m\u001b[0mself\u001b[0m\u001b[1;33m.\u001b[0m\u001b[0mshape\u001b[0m\u001b[1;33m)\u001b[0m \u001b[1;33m==\u001b[0m \u001b[1;36m4\u001b[0m\u001b[1;33m:\u001b[0m\u001b[1;33m\u001b[0m\u001b[1;33m\u001b[0m\u001b[0m\n",
      "\u001b[1;32m~\\AppData\\Local\\Programs\\Python\\Python37\\lib\\site-packages\\MDR\\MDR.py\u001b[0m in \u001b[0;36mmodel_driven_registration\u001b[1;34m(images, image_parameters, model, signal_model_parameters, elastix_model_parameters, precision, function, parallel, log, mask)\u001b[0m\n\u001b[0;32m     58\u001b[0m         \u001b[0mfit\u001b[0m \u001b[1;33m=\u001b[0m \u001b[0mnp\u001b[0m\u001b[1;33m.\u001b[0m\u001b[0mreshape\u001b[0m\u001b[1;33m(\u001b[0m\u001b[0mfit\u001b[0m\u001b[1;33m,\u001b[0m\u001b[1;33m(\u001b[0m\u001b[0mshape\u001b[0m\u001b[1;33m[\u001b[0m\u001b[1;36m0\u001b[0m\u001b[1;33m]\u001b[0m\u001b[1;33m,\u001b[0m\u001b[0mshape\u001b[0m\u001b[1;33m[\u001b[0m\u001b[1;36m1\u001b[0m\u001b[1;33m]\u001b[0m\u001b[1;33m,\u001b[0m\u001b[0mshape\u001b[0m\u001b[1;33m[\u001b[0m\u001b[1;36m2\u001b[0m\u001b[1;33m]\u001b[0m\u001b[1;33m)\u001b[0m\u001b[1;33m)\u001b[0m\u001b[1;33m\u001b[0m\u001b[1;33m\u001b[0m\u001b[0m\n\u001b[0;32m     59\u001b[0m         \u001b[1;31m# perform 2D image registration\u001b[0m\u001b[1;33m\u001b[0m\u001b[1;33m\u001b[0m\u001b[1;33m\u001b[0m\u001b[0m\n\u001b[1;32m---> 60\u001b[1;33m         \u001b[0mcoregistered\u001b[0m\u001b[1;33m,\u001b[0m \u001b[0mnew_deformation_field\u001b[0m \u001b[1;33m=\u001b[0m \u001b[0mfit_coregistration\u001b[0m\u001b[1;33m(\u001b[0m\u001b[0mfit\u001b[0m\u001b[1;33m,\u001b[0m \u001b[0mimages\u001b[0m\u001b[1;33m,\u001b[0m \u001b[0mimage_parameters\u001b[0m\u001b[1;33m,\u001b[0m \u001b[0melastix_model_parameters\u001b[0m\u001b[1;33m,\u001b[0m \u001b[0mparallel\u001b[0m\u001b[1;33m=\u001b[0m\u001b[0mparallel\u001b[0m\u001b[1;33m,\u001b[0m \u001b[0mlog\u001b[0m\u001b[1;33m=\u001b[0m\u001b[0mlog\u001b[0m\u001b[1;33m,\u001b[0m \u001b[0mmask\u001b[0m\u001b[1;33m=\u001b[0m\u001b[0mmask\u001b[0m\u001b[1;33m)\u001b[0m\u001b[1;33m\u001b[0m\u001b[1;33m\u001b[0m\u001b[0m\n\u001b[0m\u001b[0;32m     61\u001b[0m         \u001b[1;31m# check convergence\u001b[0m\u001b[1;33m\u001b[0m\u001b[1;33m\u001b[0m\u001b[1;33m\u001b[0m\u001b[0m\n\u001b[0;32m     62\u001b[0m         \u001b[0mimprovement\u001b[0m\u001b[1;33m.\u001b[0m\u001b[0mappend\u001b[0m\u001b[1;33m(\u001b[0m\u001b[0mmaximum_deformation_per_pixel\u001b[0m\u001b[1;33m(\u001b[0m\u001b[0mdeformation_field\u001b[0m\u001b[1;33m,\u001b[0m \u001b[0mnew_deformation_field\u001b[0m\u001b[1;33m)\u001b[0m\u001b[1;33m)\u001b[0m\u001b[1;33m\u001b[0m\u001b[1;33m\u001b[0m\u001b[0m\n",
      "\u001b[1;32m~\\AppData\\Local\\Programs\\Python\\Python37\\lib\\site-packages\\MDR\\MDR.py\u001b[0m in \u001b[0;36mfit_coregistration\u001b[1;34m(fit, images, image_parameters, elastix_model_parameters, parallel, log, mask)\u001b[0m\n\u001b[0;32m    107\u001b[0m             \u001b[1;32mif\u001b[0m \u001b[0mmask\u001b[0m \u001b[1;32mis\u001b[0m \u001b[1;32mnot\u001b[0m \u001b[1;32mNone\u001b[0m\u001b[1;33m:\u001b[0m \u001b[0mmoco_mask\u001b[0m \u001b[1;33m=\u001b[0m \u001b[0mmask\u001b[0m\u001b[1;33m[\u001b[0m\u001b[1;33m:\u001b[0m\u001b[1;33m,\u001b[0m\u001b[1;33m:\u001b[0m\u001b[1;33m,\u001b[0m\u001b[0mt\u001b[0m\u001b[1;33m]\u001b[0m\u001b[1;33m\u001b[0m\u001b[1;33m\u001b[0m\u001b[0m\n\u001b[0;32m    108\u001b[0m             \u001b[1;32melse\u001b[0m\u001b[1;33m:\u001b[0m \u001b[0mmoco_mask\u001b[0m \u001b[1;33m=\u001b[0m \u001b[1;32mNone\u001b[0m\u001b[1;33m\u001b[0m\u001b[1;33m\u001b[0m\u001b[0m\n\u001b[1;32m--> 109\u001b[1;33m             \u001b[0mcoregistered\u001b[0m\u001b[1;33m[\u001b[0m\u001b[1;33m:\u001b[0m\u001b[1;33m,\u001b[0m\u001b[0mt\u001b[0m\u001b[1;33m]\u001b[0m\u001b[1;33m,\u001b[0m \u001b[0mdeformation_field\u001b[0m\u001b[1;33m[\u001b[0m\u001b[1;33m:\u001b[0m\u001b[1;33m,\u001b[0m\u001b[1;33m:\u001b[0m\u001b[1;33m,\u001b[0m\u001b[0mt\u001b[0m\u001b[1;33m]\u001b[0m \u001b[1;33m=\u001b[0m \u001b[0mitkElastix_MDR_coregistration\u001b[0m\u001b[1;33m(\u001b[0m\u001b[0mimages\u001b[0m\u001b[1;33m[\u001b[0m\u001b[1;33m:\u001b[0m\u001b[1;33m,\u001b[0m\u001b[1;33m:\u001b[0m\u001b[1;33m,\u001b[0m\u001b[0mt\u001b[0m\u001b[1;33m]\u001b[0m\u001b[1;33m,\u001b[0m \u001b[0mfit\u001b[0m\u001b[1;33m[\u001b[0m\u001b[1;33m:\u001b[0m\u001b[1;33m,\u001b[0m\u001b[1;33m:\u001b[0m\u001b[1;33m,\u001b[0m\u001b[0mt\u001b[0m\u001b[1;33m]\u001b[0m\u001b[1;33m,\u001b[0m \u001b[0melastix_model_parameters\u001b[0m\u001b[1;33m,\u001b[0m \u001b[0mimage_parameters\u001b[0m\u001b[1;33m,\u001b[0m \u001b[0mparallel\u001b[0m\u001b[1;33m=\u001b[0m\u001b[1;32mFalse\u001b[0m\u001b[1;33m,\u001b[0m \u001b[0mlog\u001b[0m\u001b[1;33m=\u001b[0m\u001b[0mlog\u001b[0m\u001b[1;33m,\u001b[0m \u001b[0mmask\u001b[0m\u001b[1;33m=\u001b[0m\u001b[0mmoco_mask\u001b[0m\u001b[1;33m)\u001b[0m\u001b[1;33m\u001b[0m\u001b[1;33m\u001b[0m\u001b[0m\n\u001b[0m\u001b[0;32m    110\u001b[0m     \u001b[1;32melse\u001b[0m\u001b[1;33m:\u001b[0m\u001b[1;33m\u001b[0m\u001b[1;33m\u001b[0m\u001b[0m\n\u001b[0;32m    111\u001b[0m         \u001b[0mpool\u001b[0m \u001b[1;33m=\u001b[0m \u001b[0mmultiprocessing\u001b[0m\u001b[1;33m.\u001b[0m\u001b[0mPool\u001b[0m\u001b[1;33m(\u001b[0m\u001b[0mprocesses\u001b[0m\u001b[1;33m=\u001b[0m\u001b[0mos\u001b[0m\u001b[1;33m.\u001b[0m\u001b[0mcpu_count\u001b[0m\u001b[1;33m(\u001b[0m\u001b[1;33m)\u001b[0m\u001b[1;33m-\u001b[0m\u001b[1;36m1\u001b[0m\u001b[1;33m)\u001b[0m\u001b[1;33m\u001b[0m\u001b[1;33m\u001b[0m\u001b[0m\n",
      "\u001b[1;32m~\\AppData\\Local\\Programs\\Python\\Python37\\lib\\site-packages\\MDR\\MDR.py\u001b[0m in \u001b[0;36mitkElastix_MDR_coregistration\u001b[1;34m(target, source, elastix_model_parameters, image_parameters, parallel, log, mask)\u001b[0m\n\u001b[0;32m    236\u001b[0m \u001b[1;33m\u001b[0m\u001b[0m\n\u001b[0;32m    237\u001b[0m     \u001b[1;31m## RUN ELASTIX using ITK-Elastix filters\u001b[0m\u001b[1;33m\u001b[0m\u001b[1;33m\u001b[0m\u001b[1;33m\u001b[0m\u001b[0m\n\u001b[1;32m--> 238\u001b[1;33m     \u001b[0mcoregistered\u001b[0m \u001b[1;33m=\u001b[0m \u001b[0mitk\u001b[0m\u001b[1;33m.\u001b[0m\u001b[0mGetArrayFromImage\u001b[0m\u001b[1;33m(\u001b[0m\u001b[0melastixImageFilter\u001b[0m\u001b[1;33m.\u001b[0m\u001b[0mGetOutput\u001b[0m\u001b[1;33m(\u001b[0m\u001b[1;33m)\u001b[0m\u001b[1;33m)\u001b[0m\u001b[1;33m.\u001b[0m\u001b[0mflatten\u001b[0m\u001b[1;33m(\u001b[0m\u001b[1;33m)\u001b[0m\u001b[1;33m\u001b[0m\u001b[1;33m\u001b[0m\u001b[0m\n\u001b[0m\u001b[0;32m    239\u001b[0m \u001b[1;33m\u001b[0m\u001b[0m\n\u001b[0;32m    240\u001b[0m     \u001b[0mtransformixImageFilter\u001b[0m \u001b[1;33m=\u001b[0m \u001b[0mitk\u001b[0m\u001b[1;33m.\u001b[0m\u001b[0mTransformixFilter\u001b[0m\u001b[1;33m.\u001b[0m\u001b[0mNew\u001b[0m\u001b[1;33m(\u001b[0m\u001b[1;33m)\u001b[0m\u001b[1;33m\u001b[0m\u001b[1;33m\u001b[0m\u001b[0m\n",
      "\u001b[1;31mKeyboardInterrupt\u001b[0m: "
     ]
    }
   ],
   "source": [
    "# Model-driven registration\n",
    "registration = MotionCorrection(magnitude_corrected, affine, 'T1_Moco', list_input_parameters, convergence=1, multithread=False, log=True)"
   ]
  },
  {
   "cell_type": "code",
   "execution_count": null,
   "metadata": {},
   "outputs": [],
   "source": [
    "# Get the coregistered input pixel_array\n",
    "moco_array = registration.get_coregistered()\n",
    "# Save motion corrected T1 sequence to NIfTI\n",
    "registration.to_nifti(output_directory=OUTPUT_DIR, base_file_name='T1_motion_corrected', maps=['original', 'coregistered', 'difference', 'fitted', 'deformation_field', 'params'])"
   ]
  },
  {
   "cell_type": "code",
   "execution_count": null,
   "metadata": {
    "collapsed": false,
    "pycharm": {
     "name": "#%%\n"
    }
   },
   "outputs": [],
   "source": [
    "# Calculate maps from the original T1 sequence save as niftis\n",
    "t1_mapper = T1(magnitude_corrected, ti, affine=affine, multithread=True, parameters=2)\n",
    "t1_mapper.to_nifti(output_directory=OUTPUT_DIR, base_file_name='T1_original', maps='all')\n",
    "\n",
    "# Calculate maps from the motion corrected T1 sequence and save as niftis\n",
    "t1_moco_mapper = T1(moco_array, ti, affine=affine, multithread=True, parameters=2)\n",
    "t1_moco_mapper.to_nifti(output_directory=OUTPUT_DIR, base_file_name='T1_moco', maps='all')"
   ]
  },
  {
   "cell_type": "code",
   "execution_count": null,
   "metadata": {
    "collapsed": false,
    "pycharm": {
     "name": "#%%\n"
    }
   },
   "outputs": [],
   "source": [
    "fig, (ax1, ax2) = plt.subplots(2, 1, figsize=(10, 10))\n",
    "\n",
    "# Display the T1 map generated from the original data\n",
    "im = ax1.imshow(np.rot90(t1_mapper.t1_map), cmap='inferno', clim=(250, 2250))\n",
    "cb = fig.colorbar(im, ax=ax1)\n",
    "cb.set_label('$T_1 Original$ (ms)')\n",
    "ax1.axis('off')\n",
    "\n",
    "# Display the T1 map generated from the motion corrected data\n",
    "im2 = ax2.imshow(np.rot90(t1_moco_mapper.t1_map), cmap='inferno', clim=(250, 2250))\n",
    "cb = fig.colorbar(im2, ax=ax2)\n",
    "cb.set_label('$T_1 Moco$ (ms)')\n",
    "ax2.axis('off')\n",
    "\n",
    "plt.show()"
   ]
  }
 ],
 "metadata": {
  "kernelspec": {
   "display_name": "Python 3",
   "language": "python",
   "name": "python3"
  },
  "language_info": {
   "codemirror_mode": {
    "name": "ipython",
    "version": 3
   },
   "file_extension": ".py",
   "mimetype": "text/x-python",
   "name": "python",
   "nbconvert_exporter": "python",
   "pygments_lexer": "ipython3",
   "version": "3.7.9"
  }
 },
 "nbformat": 4,
 "nbformat_minor": 0
}
