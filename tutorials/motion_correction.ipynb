{
 "cells": [
  {
   "cell_type": "markdown",
   "metadata": {
    "collapsed": true,
    "pycharm": {
     "name": "#%% md\n"
    }
   },
   "source": [
    "# Motion Correction Tutorial"
   ]
  },
  {
   "cell_type": "markdown",
   "metadata": {
    "collapsed": false
   },
   "source": [
    "This Jupyter Notebook presents an example of the application of motion correction in T1 and DWI MRI images.\n",
    "\n",
    "\n",
    "The motion correction algorithm uses Model-Driven Registration (MDR). `ukat` calls the python package `mdreg` and its source code can be found at: https://github.com/QIB-Sheffield/mdreg\n",
    "\n",
    "\n",
    "Start by importing the required libraries and defining some settings:"
   ]
  },
  {
   "cell_type": "code",
   "execution_count": null,
   "metadata": {
    "collapsed": false,
    "pycharm": {
     "name": "#%%\n"
    }
   },
   "outputs": [],
   "source": [
    "import os\n",
    "import numpy as np\n",
    "import matplotlib.pyplot as plt\n",
    "\n",
    "from ukat.data import fetch\n",
    "from ukat.utils.tools import convert_to_pi_range\n",
    "from ukat.mapping.t1 import T1, magnitude_correct\n",
    "from ukat.mapping.diffusion import ADC, DTI\n",
    "from ukat.moco.mdr import MotionCorrection\n",
    "\n",
    "# Ensure figures are rendered in the notebook\n",
    "%matplotlib inline\n",
    "\n",
    "# Initialise output path for the Model-Driven Registration process\n",
    "directory = 'motion_correction_output'\n",
    "os.makedirs(directory, exist_ok=True)\n",
    "OUTPUT_DIR = os.path.join(os.getcwd(), directory)"
   ]
  },
  {
   "cell_type": "markdown",
   "metadata": {},
   "source": [
    "Fetch UKRIN-MAPS T1 test data"
   ]
  },
  {
   "cell_type": "code",
   "execution_count": null,
   "metadata": {
    "collapsed": false,
    "pycharm": {
     "name": "#%%\n"
    }
   },
   "outputs": [],
   "source": [
    "magnitude, phase, affine_t1, ti, tss = fetch.t1_philips(2)\n",
    "# Prepare the T1 modelling input arguments\n",
    "phase = convert_to_pi_range(phase)\n",
    "complex_data = magnitude * (np.cos(phase) + 1j * np.sin(phase)) # convert magnitude and phase into complex data\n",
    "ti = np.array(ti) * 1000  # convert TIs to ms\n",
    "magnitude_corrected = np.squeeze(magnitude_correct(complex_data))\n",
    "# Pre-processing as preparation for the Model-Driven Registration process\n",
    "list_input_parameters_t1 = [affine_t1, ti, 0, None, None, 3, False]"
   ]
  },
  {
   "cell_type": "markdown",
   "metadata": {},
   "source": [
    "In case you wish to test this with a different T1 dataset, see below a code snippet where a NIfTI file is read in Python.\n",
    "\n",
    "```python\n",
    "import nibabel as nib\n",
    "image_file = os.path.join(\"C:\\\\{Users}\\\\{user}\\\\Desktop\\\\{folder}\", \"{file_name}.nii.gz\")\n",
    "magnitude_corrected = nib.load(image_file).get_fdata()\n",
    "affine_t1 = nib.load(image_file).affine\n",
    "ti = np.arange(0.1, 2.001, 0.1) * 1000  # convert TIs to ms\n",
    "# Pre-processing as preparation for the Model-Driven Registration process\n",
    "list_input_parameters_t1 = [affine_t1, ti, 0, None, None, 3, False]\n",
    "```"
   ]
  },
  {
   "cell_type": "markdown",
   "metadata": {},
   "source": [
    "Fetch UKRIN-MAPS DWI test data"
   ]
  },
  {
   "cell_type": "code",
   "execution_count": null,
   "metadata": {},
   "outputs": [],
   "source": [
    "pixel_array, affine_dwi, bvals, bvecs = fetch.dwi_philips()\n",
    "# Pre-processing as preparation for the Model-Driven Registration process\n",
    "list_input_parameters_dwi = [affine_dwi, bvals, None, False]"
   ]
  },
  {
   "cell_type": "markdown",
   "metadata": {},
   "source": [
    "In case you wish to test this with a different DWI dataset, see below a code snippet where a NIfTI file is read in Python.\n",
    "\n",
    "```python\n",
    "import nibabel as nib\n",
    "from dipy.io import read_bvals_bvecs\n",
    "image_file = os.path.join(\"C:\\\\{Users}\\\\{user}\\\\Desktop\\\\{folder}\", \"{file_name}.nii.gz\")\n",
    "bvals_file = os.path.join(\"C:\\\\{Users}\\\\{user}\\\\Desktop\\\\{folder}\", \"{file_name}.bval\")\n",
    "bvecs_file = os.path.join(\"C:\\\\{Users}\\\\{user}\\\\Desktop\\\\{folder}\", \"{file_name}.bvec\")\n",
    "pixel_array = nib.load(image_file).get_fdata()\n",
    "affine_dwi = nib.load(image_file).affine\n",
    "bvals, bvecs = read_bvals_bvecs(bvals_file, bvecs_file)\n",
    "# Pre-processing as preparation for the Model-Driven Registration process\n",
    "list_input_parameters_dwi = [affine_dwi, bvals, None, False]\n",
    "```"
   ]
  },
  {
   "cell_type": "markdown",
   "metadata": {},
   "source": [
    "Set bounding box masks for motion correction"
   ]
  },
  {
   "cell_type": "code",
   "execution_count": null,
   "metadata": {},
   "outputs": [],
   "source": [
    "mask_flag = True\n",
    "# The bounding box is set to 1/6 of the Field Of View (FOV). This ratio can be changed in the lines below.\n",
    "if mask_flag == True:\n",
    "    x_t1 = np.shape(magnitude_corrected)[0]\n",
    "    y_t1 = np.shape(magnitude_corrected)[1]\n",
    "    x_dwi = np.shape(pixel_array)[0]\n",
    "    y_dwi = np.shape(pixel_array)[1]\n",
    "    mask_moco_t1 = np.ones(np.shape(magnitude_corrected))\n",
    "    mask_moco_dwi = np.ones(np.shape(pixel_array))\n",
    "    mask_moco_t1[:int(x_t1/6), ...] = 0\n",
    "    mask_moco_t1[int(5*x_t1/6):, ...] = 0\n",
    "    mask_moco_t1[:, :int(y_t1/6), ...] = 0\n",
    "    mask_moco_t1[:, int(5*y_t1/6):, ...] = 0\n",
    "    mask_moco_dwi[:int(x_dwi/6), ...] = 0\n",
    "    mask_moco_dwi[int(5*x_dwi/6):, ...] = 0\n",
    "    mask_moco_dwi[:, :int(y_dwi/6), ...] = 0\n",
    "    mask_moco_dwi[:, int(5*y_dwi/6):, ...] = 0\n",
    "else:\n",
    "    mask_moco_t1 = None\n",
    "    mask_moco_dwi = None"
   ]
  },
  {
   "cell_type": "markdown",
   "metadata": {},
   "source": [
    "## T1 Model-Driven Registration"
   ]
  },
  {
   "cell_type": "code",
   "execution_count": null,
   "metadata": {},
   "outputs": [],
   "source": [
    "t1_registration = MotionCorrection(magnitude_corrected, affine_t1, 'T1_Moco', list_input_parameters_t1, convergence=1, multithread=False, log=False, mask=mask_moco_t1)"
   ]
  },
  {
   "cell_type": "markdown",
   "metadata": {},
   "source": [
    "Extract and save the motion corrected T1 results."
   ]
  },
  {
   "cell_type": "code",
   "execution_count": null,
   "metadata": {},
   "outputs": [],
   "source": [
    "# Get the T1 coregistered pixel_array and the array with the difference between the original and the motion corrected\n",
    "t1_moco_array = t1_registration.get_coregistered()\n",
    "t1_moco_diff_array = t1_registration.get_diff_orig_coreg()\n",
    "t1_registration.get_elastix_parameters(output_directory=OUTPUT_DIR, base_file_name='T1_Elastix', export=True)\n",
    "t1_registration.get_improvements(output_directory=OUTPUT_DIR, base_file_name='T1_improvements', export=True)\n",
    "# Save motion corrected T1 sequence to NIfTI\n",
    "t1_registration.to_nifti(output_directory=OUTPUT_DIR, base_file_name='T1_motion_corrected', maps=['original', 'coregistered', 'difference', 'model_fit', 'mask', 'deformation_field', 'parameters'])\n",
    "t1_registration.to_gif(output_directory=OUTPUT_DIR, base_file_name='T1_motion_corrected', maps=['original', 'coregistered', 'difference', 'model_fit', 'deformation_field'])"
   ]
  },
  {
   "cell_type": "markdown",
   "metadata": {},
   "source": [
    "Perform T1 map calculation in the original and co-registered T1 images."
   ]
  },
  {
   "cell_type": "code",
   "execution_count": null,
   "metadata": {},
   "outputs": [],
   "source": [
    "# Calculate maps from the original T1 sequence save as niftis\n",
    "t1_mapper = T1(magnitude_corrected, ti, affine=affine_t1, multithread=False, parameters=3)\n",
    "t1_mapper.to_nifti(output_directory=OUTPUT_DIR, base_file_name='T1_original', maps='all')\n",
    "\n",
    "# Calculate maps from the motion corrected T1 sequence and save as niftis\n",
    "t1_moco_mapper = T1(t1_moco_array, ti, affine=affine_t1, multithread=False, parameters=3)\n",
    "t1_moco_mapper.to_nifti(output_directory=OUTPUT_DIR, base_file_name='T1_moco', maps='all')"
   ]
  },
  {
   "cell_type": "markdown",
   "metadata": {},
   "source": [
    "Display the difference between the original T1 images and the co-registered images."
   ]
  },
  {
   "cell_type": "code",
   "execution_count": null,
   "metadata": {},
   "outputs": [],
   "source": [
    "fig, (ax1, ax2, ax3) = plt.subplots(1, 3, figsize=(20, 6))\n",
    "\n",
    "# Display the T1 original data\n",
    "im = ax1.imshow(np.rot90(magnitude_corrected[..., 2, 10]), clim=(0, 1000))\n",
    "cb = fig.colorbar(im, ax=ax1)\n",
    "cb.set_label('T1 Original')\n",
    "ax1.axis('off')\n",
    "\n",
    "# Display the T1 co-registered data\n",
    "im2 = ax2.imshow(np.rot90(t1_moco_array[..., 2, 10]), clim=(0, 1000))\n",
    "cb = fig.colorbar(im2, ax=ax2)\n",
    "cb.set_label('T1 Moco')\n",
    "ax2.axis('off')\n",
    "\n",
    "# Display the difference image between T1 original data and T1 co-registered data\n",
    "im3 = ax3.imshow(np.rot90(t1_moco_diff_array[..., 2, 10]), clim=(0, 1000))\n",
    "cb = fig.colorbar(im3, ax=ax3)\n",
    "cb.set_label('T1 Moco Difference')\n",
    "ax3.axis('off')\n",
    "\n",
    "plt.show()"
   ]
  },
  {
   "cell_type": "markdown",
   "metadata": {},
   "source": [
    "Plot the T1 maps from the original and co-registered images."
   ]
  },
  {
   "cell_type": "code",
   "execution_count": null,
   "metadata": {},
   "outputs": [],
   "source": [
    "fig, (ax1, ax2) = plt.subplots(2, 1, figsize=(10, 10))\n",
    "\n",
    "# Display the T1 map generated from the original data\n",
    "im = ax1.imshow(np.rot90(t1_mapper.t1_map[..., 2]), cmap='inferno', clim=(250, 2250))\n",
    "cb = fig.colorbar(im, ax=ax1)\n",
    "cb.set_label('$T_1 Original$ (ms)')\n",
    "ax1.axis('off')\n",
    "\n",
    "# Display the T1 map generated from the motion corrected data\n",
    "im2 = ax2.imshow(np.rot90(t1_moco_mapper.t1_map[..., 2]), cmap='inferno', clim=(250, 2250))\n",
    "cb = fig.colorbar(im2, ax=ax2)\n",
    "cb.set_label('$T_1 Moco$ (ms)')\n",
    "ax2.axis('off')\n",
    "\n",
    "plt.show()"
   ]
  },
  {
   "cell_type": "markdown",
   "metadata": {},
   "source": [
    "## DWI Model-driven registration"
   ]
  },
  {
   "cell_type": "code",
   "execution_count": null,
   "metadata": {},
   "outputs": [],
   "source": [
    "dwi_registration = MotionCorrection(pixel_array, affine_dwi, 'DWI_Moco', list_input_parameters_dwi, convergence=1, multithread=False, log=False, mask=mask_moco_dwi)"
   ]
  },
  {
   "cell_type": "markdown",
   "metadata": {},
   "source": [
    "Extract and save the motion corrected DWI results."
   ]
  },
  {
   "cell_type": "code",
   "execution_count": null,
   "metadata": {},
   "outputs": [],
   "source": [
    "# Get the DWI coregistered pixel_array and the array with the difference between the original and the motion corrected\n",
    "dwi_moco_array = dwi_registration.get_coregistered()\n",
    "dwi_moco_diff_array = dwi_registration.get_diff_orig_coreg()\n",
    "dwi_registration.get_elastix_parameters(output_directory=OUTPUT_DIR, base_file_name='DWI_Elastix', export=True)\n",
    "dwi_registration.get_improvements(output_directory=OUTPUT_DIR, base_file_name='DWI_improvements', export=True)\n",
    "# Save motion corrected diffusion sequence to NIfTI\n",
    "dwi_registration.to_nifti(output_directory=OUTPUT_DIR, base_file_name='DWI_motion_corrected', maps=['original', 'coregistered', 'difference', 'mask', 'model_fit', 'deformation_field', 'parameters'])\n",
    "dwi_registration.to_gif(output_directory=OUTPUT_DIR, base_file_name='DWI_motion_corrected', maps=['original', 'coregistered', 'difference', 'model_fit', 'deformation_field'])"
   ]
  },
  {
   "cell_type": "markdown",
   "metadata": {},
   "source": [
    "Perform ADC and DTI calculation in the original and co-registered DWI images."
   ]
  },
  {
   "cell_type": "code",
   "execution_count": null,
   "metadata": {
    "collapsed": false,
    "pycharm": {
     "name": "#%%\n"
    }
   },
   "outputs": [],
   "source": [
    "# Calculate maps from the original diffusion sequence using ADC methods and save as niftis\n",
    "adc_mapper = ADC(pixel_array, affine_dwi, bvals, ukrin_b=True)\n",
    "adc_mapper.to_nifti(output_directory=OUTPUT_DIR, base_file_name='diffusion_original', maps='all')\n",
    "\n",
    "# Calculate maps from the original diffusion sequence using DTI methods and save as niftis\n",
    "dti_mapper = DTI(pixel_array, affine_dwi, bvals, bvecs, ukrin_b=True)\n",
    "dti_mapper.to_nifti(output_directory=OUTPUT_DIR, base_file_name='diffusion_original', maps=['md', 'fa'])\n",
    "\n",
    "# Calculate maps from the motion corrected diffusion sequence using ADC methods and save as niftis\n",
    "adc_mapper_moco = ADC(dwi_moco_array, affine_dwi, bvals, ukrin_b=True)\n",
    "adc_mapper.to_nifti(output_directory=OUTPUT_DIR, base_file_name='diffusion_moco', maps='all')\n",
    "\n",
    "# Calculate maps from the motion corrected diffusion sequence using DTI methods and save as niftis\n",
    "dti_mapper_moco = DTI(dwi_moco_array, affine_dwi, bvals, bvecs, ukrin_b=True)\n",
    "dti_mapper.to_nifti(output_directory=OUTPUT_DIR, base_file_name='diffusion_moco', maps=['md', 'fa'])"
   ]
  },
  {
   "cell_type": "markdown",
   "metadata": {},
   "source": [
    "Display the difference between the original DWI images and the co-registered images."
   ]
  },
  {
   "cell_type": "code",
   "execution_count": null,
   "metadata": {},
   "outputs": [],
   "source": [
    "fig, (ax1, ax2, ax3) = plt.subplots(1, 3, figsize=(20, 6))\n",
    "\n",
    "# Display the DWI original data\n",
    "im = ax1.imshow(np.rot90(pixel_array[..., 4, 40]), clim=(0, 100000))\n",
    "cb = fig.colorbar(im, ax=ax1)\n",
    "cb.set_label('DWI Original')\n",
    "ax1.axis('off')\n",
    "\n",
    "# Display the DWI co-registered data\n",
    "im2 = ax2.imshow(np.rot90(dwi_moco_array[..., 4, 40]), clim=(0, 100000))\n",
    "cb = fig.colorbar(im2, ax=ax2)\n",
    "cb.set_label('DWI Moco')\n",
    "ax2.axis('off')\n",
    "\n",
    "# Display the difference image between DWI original data and DWI co-registered data\n",
    "im3 = ax3.imshow(np.rot90(dwi_moco_diff_array[..., 4, 40]), clim=(0, 100000))\n",
    "cb = fig.colorbar(im3, ax=ax3)\n",
    "cb.set_label('DWI Moco Difference')\n",
    "ax3.axis('off')\n",
    "\n",
    "plt.show()"
   ]
  },
  {
   "cell_type": "markdown",
   "metadata": {},
   "source": [
    "Plot the ADC, MD and FA maps from the original images."
   ]
  },
  {
   "cell_type": "code",
   "execution_count": null,
   "metadata": {
    "collapsed": false,
    "pycharm": {
     "name": "#%%\n"
    }
   },
   "outputs": [],
   "source": [
    "# Display the central slice of each map\n",
    "fig, ax = plt.subplots(2, 2, figsize=(16, 12))\n",
    "\n",
    "# Display a central slice of the ADC map\n",
    "im = ax[0, 0].imshow(np.rot90(adc_mapper.adc[:, :, adc_mapper.shape[2]//2]), cmap='inferno', clim=(0.001, 0.003))\n",
    "cb = fig.colorbar(im, ax=ax[0, 0])\n",
    "cb.set_label('ADC ($mm^2/s$)')\n",
    "ax[0, 0].axis('off')\n",
    "\n",
    "# Display a central slice of the MD map\n",
    "im = ax[0, 1].imshow(np.rot90(dti_mapper.md[:, :, dti_mapper.shape[2]//2]), cmap='inferno', clim=(0.001, 0.003))\n",
    "cb = fig.colorbar(im, ax=ax[0, 1])\n",
    "cb.set_label('MD ($mm^2/s$)')\n",
    "ax[0, 1].axis('off')\n",
    "\n",
    "# Display a central slice of the FA map\n",
    "im = ax[1, 0].imshow(np.rot90(dti_mapper.fa[:, :, dti_mapper.shape[2]//2]), cmap='viridis', clim=(0.1, 0.8))\n",
    "cb = fig.colorbar(im, ax=ax[1, 0])\n",
    "cb.set_label('FA')\n",
    "ax[1, 0].axis('off')\n",
    "\n",
    "# Display a central slice of the color FA map\n",
    "im = ax[1, 1].imshow(np.rot90(dti_mapper.color_fa[:, :, dti_mapper.shape[2]//2, :]))\n",
    "ax[1, 1].axis('off')"
   ]
  },
  {
   "cell_type": "markdown",
   "metadata": {},
   "source": [
    "Plot the ADC, MD and FA maps from the co-registered images."
   ]
  },
  {
   "cell_type": "code",
   "execution_count": null,
   "metadata": {},
   "outputs": [],
   "source": [
    "# Display the central slice of each map\n",
    "fig, ax = plt.subplots(2, 2, figsize=(16, 12))\n",
    "\n",
    "# Display a central slice of the ADC map\n",
    "im = ax[0, 0].imshow(np.rot90(adc_mapper_moco.adc[:, :, adc_mapper_moco.shape[2]//2]), cmap='inferno', clim=(0.001, 0.003))\n",
    "cb = fig.colorbar(im, ax=ax[0, 0])\n",
    "cb.set_label('ADC ($mm^2/s$)')\n",
    "ax[0, 0].axis('off')\n",
    "\n",
    "# Display a central slice of the MD map\n",
    "im = ax[0, 1].imshow(np.rot90(dti_mapper_moco.md[:, :, dti_mapper_moco.shape[2]//2]), cmap='inferno', clim=(0.001, 0.003))\n",
    "cb = fig.colorbar(im, ax=ax[0, 1])\n",
    "cb.set_label('MD ($mm^2/s$)')\n",
    "ax[0, 1].axis('off')\n",
    "\n",
    "# Display a central slice of the FA map\n",
    "im = ax[1, 0].imshow(np.rot90(dti_mapper_moco.fa[:, :, dti_mapper_moco.shape[2]//2]), cmap='viridis', clim=(0.1, 0.8))\n",
    "cb = fig.colorbar(im, ax=ax[1, 0])\n",
    "cb.set_label('FA')\n",
    "ax[1, 0].axis('off')\n",
    "\n",
    "# Display a central slice of the color FA map\n",
    "im = ax[1, 1].imshow(np.rot90(dti_mapper_moco.color_fa[:, :, dti_mapper_moco.shape[2]//2, :]))\n",
    "ax[1, 1].axis('off')"
   ]
  }
 ],
 "metadata": {
  "kernelspec": {
   "display_name": "Python 3",
   "language": "python",
   "name": "python3"
  },
  "language_info": {
   "codemirror_mode": {
    "name": "ipython",
    "version": 3
   },
   "file_extension": ".py",
   "mimetype": "text/x-python",
   "name": "python",
   "nbconvert_exporter": "python",
   "pygments_lexer": "ipython3",
   "version": "3.7.9"
  }
 },
 "nbformat": 4,
 "nbformat_minor": 0
}
