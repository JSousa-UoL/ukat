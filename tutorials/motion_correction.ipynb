{
 "cells": [
  {
   "cell_type": "markdown",
   "metadata": {
    "collapsed": true,
    "pycharm": {
     "name": "#%% md\n"
    }
   },
   "source": [
    "# Motion Correction Tutorial"
   ]
  },
  {
   "cell_type": "markdown",
   "metadata": {
    "collapsed": false
   },
   "source": [
    "This Jupyter Notebook presents an example of the application of motion correction in T1 and DWI MRI images.\n",
    "\n",
    "\n",
    "The motion correction algorithm uses Model-Driven Registration (MDR). `ukat` calls the python package `mdr_library` and its source code can be found at: https://github.com/QIB-Sheffield/MDR_Library\n",
    "\n",
    "\n",
    "Start by importing the required libraries and defining some settings:"
   ]
  },
  {
   "cell_type": "code",
   "execution_count": 1,
   "metadata": {
    "collapsed": false,
    "pycharm": {
     "name": "#%%\n"
    }
   },
   "outputs": [],
   "source": [
    "import os\n",
    "import numpy as np\n",
    "import matplotlib.pyplot as plt\n",
    "\n",
    "from ukat.data import fetch\n",
    "from ukat.utils.tools import convert_to_pi_range\n",
    "from ukat.mapping.t1 import T1, magnitude_correct\n",
    "from ukat.mapping.diffusion import ADC, DTI\n",
    "from ukat.moco.mdr import MotionCorrection\n",
    "\n",
    "# Ensure figures are rendered in the notebook\n",
    "%matplotlib inline\n",
    "\n",
    "# Initialise output path for the Model-Driven Registration process\n",
    "directory = 'motion_correction_output'\n",
    "os.makedirs(directory, exist_ok=True)\n",
    "OUTPUT_DIR = os.path.join(os.getcwd(), directory)"
   ]
  },
  {
   "cell_type": "markdown",
   "metadata": {},
   "source": [
    "Fetch T1 test data"
   ]
  },
  {
   "cell_type": "code",
   "execution_count": 2,
   "metadata": {
    "collapsed": false,
    "pycharm": {
     "name": "#%%\n"
    }
   },
   "outputs": [
    {
     "name": "stderr",
     "output_type": "stream",
     "text": [
      "invalid value encountered in true_divide\n",
      "invalid value encountered in true_divide\n",
      "invalid value encountered in log\n"
     ]
    }
   ],
   "source": [
    "# We will process on a central slice only\n",
    "magnitude, phase, affine_t1, ti, tss = fetch.t1_philips(2)\n",
    "magnitude = magnitude[:, :, 3, :]\n",
    "phase = phase[:, :, 3, :]\n",
    "# Prepare the T1 modelling input arguments\n",
    "phase = convert_to_pi_range(phase)\n",
    "complex_data = magnitude * (np.cos(phase) + 1j * np.sin(phase)) # convert magnitude and phase into complex data\n",
    "ti = np.array(ti) * 1000  # convert TIs to ms\n",
    "magnitude_corrected = np.squeeze(magnitude_correct(complex_data))\n",
    "# Pre-processing as preparation for the Model-Driven Registration process\n",
    "list_input_parameters_t1 = [affine_t1, ti, 0, None, None, 2, False]"
   ]
  },
  {
   "cell_type": "markdown",
   "metadata": {},
   "source": [
    "Fetch DWI test data"
   ]
  },
  {
   "cell_type": "code",
   "execution_count": 3,
   "metadata": {},
   "outputs": [],
   "source": [
    "pixel_array, affine_dwi, bvals, bvecs = fetch.dwi_philips()\n",
    "# Pre-processing as preparation for the Model-Driven Registration process\n",
    "list_input_parameters_dwi = [affine_dwi, bvals, None, False]"
   ]
  },
  {
   "cell_type": "markdown",
   "metadata": {},
   "source": [
    "Set masks for motion correction"
   ]
  },
  {
   "cell_type": "code",
   "execution_count": 9,
   "metadata": {},
   "outputs": [],
   "source": [
    "mask_flag = True\n",
    "if mask_flag == True:\n",
    "    x_t1 = np.shape(magnitude_corrected)[0]\n",
    "    y_t1 = np.shape(magnitude_corrected)[1]\n",
    "    x_dwi = np.shape(pixel_array)[0]\n",
    "    y_dwi = np.shape(pixel_array)[1]\n",
    "    mask_moco_t1 = np.ones(np.shape(magnitude_corrected))\n",
    "    mask_moco_dwi = np.ones(np.shape(pixel_array))\n",
    "    mask_moco_t1[:int(x_t1/4), ...] = 0\n",
    "    mask_moco_t1[int(3*x_t1/4):, ...] = 0\n",
    "    mask_moco_t1[:, :int(y_t1/4), ...] = 0\n",
    "    mask_moco_t1[:, int(3*y_t1/4):, ...] = 0\n",
    "    mask_moco_dwi[:int(x_dwi/4), ...] = 0\n",
    "    mask_moco_dwi[int(3*x_dwi/4):, ...] = 0\n",
    "    mask_moco_dwi[:, :int(y_dwi/4), ...] = 0\n",
    "    mask_moco_dwi[:, int(3*y_dwi/4):, ...] = 0\n",
    "    mask_t1_model = np.array(mask_moco_t1[..., 3], dtype=bool)\n",
    "    mask_dwi_model = np.array(mask_moco_dwi[..., 3, 0], dtype=bool)\n",
    "    list_input_parameters_t1 = [affine_t1, ti, 0, None, mask_t1_model, 2, False]\n",
    "    list_input_parameters_dwi = [affine_dwi, bvals, mask_dwi_model, False]\n",
    "else:\n",
    "    mask_moco_t1 = None\n",
    "    mask_moco_dwi = None"
   ]
  },
  {
   "cell_type": "markdown",
   "metadata": {},
   "source": [
    "## T1 Model-Driven Registration"
   ]
  },
  {
   "cell_type": "code",
   "execution_count": null,
   "metadata": {},
   "outputs": [],
   "source": [
    "t1_registration = MotionCorrection(magnitude_corrected, affine_t1, 'T1_Moco', list_input_parameters_t1, convergence=1, multithread=False, log=False, mask=mask_moco_t1)"
   ]
  },
  {
   "cell_type": "code",
   "execution_count": null,
   "metadata": {},
   "outputs": [],
   "source": [
    "# Get the T1 coregistered pixel_array and the array with the difference between the original and the motion corrected\n",
    "t1_moco_array = t1_registration.get_coregistered()\n",
    "t1_moco_diff_array = t1_registration.get_diff_orig_coreg()\n",
    "# Save motion corrected T1 sequence to NIfTI\n",
    "t1_registration.to_nifti(output_directory=OUTPUT_DIR, base_file_name='T1_motion_corrected', maps=['original', 'coregistered', 'difference', 'fitted', 'deformation_field', 'params'])"
   ]
  },
  {
   "cell_type": "markdown",
   "metadata": {},
   "source": [
    "## DWI Model-driven registration"
   ]
  },
  {
   "cell_type": "code",
   "execution_count": 10,
   "metadata": {},
   "outputs": [
    {
     "name": "stdout",
     "output_type": "stream",
     "text": [
      "(128, 128)\n",
      "(128, 128, 79)\n"
     ]
    },
    {
     "name": "stderr",
     "output_type": "stream",
     "text": [
      "100%|██████████| 4066/4066 [00:00<00:00, 5525.85it/s]\n",
      "Co-registration progress: 100%|██████████| 79/79 [02:57<00:00,  2.24s/it]\n"
     ]
    },
    {
     "name": "stdout",
     "output_type": "stream",
     "text": [
      "(128, 128)\n",
      "(128, 128, 79)\n"
     ]
    },
    {
     "name": "stderr",
     "output_type": "stream",
     "text": [
      "100%|██████████| 4066/4066 [00:00<00:00, 4557.87it/s]\n",
      "Co-registration progress: 100%|██████████| 79/79 [02:50<00:00,  2.16s/it]\n"
     ]
    },
    {
     "name": "stdout",
     "output_type": "stream",
     "text": [
      "(128, 128)\n",
      "(128, 128, 79)\n"
     ]
    },
    {
     "name": "stderr",
     "output_type": "stream",
     "text": [
      "100%|██████████| 4048/4048 [00:00<00:00, 5169.06it/s]\n",
      "Co-registration progress: 100%|██████████| 79/79 [02:53<00:00,  2.19s/it]\n"
     ]
    },
    {
     "name": "stdout",
     "output_type": "stream",
     "text": [
      "(128, 128)\n",
      "(128, 128, 79)\n"
     ]
    },
    {
     "name": "stderr",
     "output_type": "stream",
     "text": [
      "100%|██████████| 4041/4041 [00:00<00:00, 4159.07it/s]\n",
      "Co-registration progress: 100%|██████████| 79/79 [02:53<00:00,  2.20s/it]\n"
     ]
    },
    {
     "name": "stdout",
     "output_type": "stream",
     "text": [
      "(128, 128)\n",
      "(128, 128, 79)\n"
     ]
    },
    {
     "name": "stderr",
     "output_type": "stream",
     "text": [
      "100%|██████████| 4025/4025 [00:00<00:00, 5270.13it/s]\n",
      "Co-registration progress: 100%|██████████| 79/79 [02:51<00:00,  2.17s/it]\n"
     ]
    },
    {
     "name": "stdout",
     "output_type": "stream",
     "text": [
      "(128, 128)\n",
      "(128, 128, 79)\n"
     ]
    },
    {
     "name": "stderr",
     "output_type": "stream",
     "text": [
      "100%|██████████| 4011/4011 [00:00<00:00, 5215.16it/s]\n",
      "Co-registration progress: 100%|██████████| 79/79 [02:52<00:00,  2.19s/it]\n"
     ]
    },
    {
     "name": "stdout",
     "output_type": "stream",
     "text": [
      "(128, 128)\n",
      "(128, 128, 79)\n"
     ]
    },
    {
     "name": "stderr",
     "output_type": "stream",
     "text": [
      "100%|██████████| 4001/4001 [00:00<00:00, 5358.35it/s]\n",
      "Co-registration progress: 100%|██████████| 79/79 [02:53<00:00,  2.20s/it]\n"
     ]
    },
    {
     "name": "stdout",
     "output_type": "stream",
     "text": [
      "(128, 128)\n",
      "(128, 128, 79)\n"
     ]
    },
    {
     "name": "stderr",
     "output_type": "stream",
     "text": [
      "100%|██████████| 4001/4001 [00:00<00:00, 5277.95it/s]\n",
      "Co-registration progress: 100%|██████████| 79/79 [02:56<00:00,  2.23s/it]\n"
     ]
    },
    {
     "name": "stdout",
     "output_type": "stream",
     "text": [
      "(128, 128)\n",
      "(128, 128, 79)\n"
     ]
    },
    {
     "name": "stderr",
     "output_type": "stream",
     "text": [
      "100%|██████████| 3987/3987 [00:00<00:00, 5441.66it/s]\n",
      "Co-registration progress: 100%|██████████| 79/79 [02:54<00:00,  2.20s/it]\n"
     ]
    },
    {
     "name": "stdout",
     "output_type": "stream",
     "text": [
      "(128, 128)\n",
      "(128, 128, 79)\n"
     ]
    },
    {
     "name": "stderr",
     "output_type": "stream",
     "text": [
      "100%|██████████| 3984/3984 [00:00<00:00, 5311.92it/s]\n",
      "Co-registration progress: 100%|██████████| 79/79 [02:53<00:00,  2.19s/it]\n"
     ]
    },
    {
     "name": "stdout",
     "output_type": "stream",
     "text": [
      "(128, 128)\n",
      "(128, 128, 79)\n"
     ]
    },
    {
     "name": "stderr",
     "output_type": "stream",
     "text": [
      "100%|██████████| 3968/3968 [00:00<00:00, 5301.00it/s]\n",
      "Co-registration progress: 100%|██████████| 79/79 [02:55<00:00,  2.22s/it]\n"
     ]
    },
    {
     "name": "stdout",
     "output_type": "stream",
     "text": [
      "(128, 128)\n",
      "(128, 128, 79)\n"
     ]
    },
    {
     "name": "stderr",
     "output_type": "stream",
     "text": [
      "100%|██████████| 3965/3965 [00:00<00:00, 4968.65it/s]\n",
      "Co-registration progress: 100%|██████████| 79/79 [02:58<00:00,  2.26s/it]\n"
     ]
    },
    {
     "name": "stdout",
     "output_type": "stream",
     "text": [
      "(128, 128)\n",
      "(128, 128, 79)\n"
     ]
    },
    {
     "name": "stderr",
     "output_type": "stream",
     "text": [
      "100%|██████████| 3953/3953 [00:00<00:00, 5319.91it/s]\n",
      "Co-registration progress: 100%|██████████| 79/79 [02:55<00:00,  2.22s/it]\n"
     ]
    },
    {
     "name": "stdout",
     "output_type": "stream",
     "text": [
      "(128, 128)\n",
      "(128, 128, 79)\n"
     ]
    },
    {
     "name": "stderr",
     "output_type": "stream",
     "text": [
      "100%|██████████| 3953/3953 [00:00<00:00, 5241.22it/s]\n",
      "Co-registration progress: 100%|██████████| 79/79 [02:56<00:00,  2.24s/it]\n"
     ]
    },
    {
     "name": "stdout",
     "output_type": "stream",
     "text": [
      "(128, 128)\n",
      "(128, 128, 79)\n"
     ]
    },
    {
     "name": "stderr",
     "output_type": "stream",
     "text": [
      "100%|██████████| 3942/3942 [00:00<00:00, 4439.17it/s]\n",
      "Co-registration progress: 100%|██████████| 79/79 [02:59<00:00,  2.28s/it]\n"
     ]
    },
    {
     "name": "stdout",
     "output_type": "stream",
     "text": [
      "(128, 128)\n",
      "(128, 128, 79)\n"
     ]
    },
    {
     "name": "stderr",
     "output_type": "stream",
     "text": [
      "100%|██████████| 3942/3942 [00:00<00:00, 5341.48it/s]\n",
      "Co-registration progress:   0%|          | 0/79 [00:00<?, ?it/s]"
     ]
    }
   ],
   "source": [
    "dwi_registration = MotionCorrection(pixel_array, affine_dwi, 'DWI_Moco', list_input_parameters_dwi, convergence=1, multithread=True, log=False, mask=mask_moco_dwi)"
   ]
  },
  {
   "cell_type": "code",
   "execution_count": null,
   "metadata": {},
   "outputs": [],
   "source": [
    "# Get the DWI coregistered pixel_array and the array with the difference between the original and the motion corrected\n",
    "dwi_moco_array = dwi_registration.get_coregistered()\n",
    "dwi_moco_diff_array = dwi_registration.get_diff_orig_coreg()\n",
    "# Save motion corrected diffusion sequence to NIfTI\n",
    "dwi_registration.to_nifti(output_directory=OUTPUT_DIR, base_file_name='DWI_motion_corrected', maps=['original', 'coregistered', 'difference', 'fitted', 'deformation_field', 'params'])"
   ]
  },
  {
   "cell_type": "markdown",
   "metadata": {},
   "source": []
  },
  {
   "cell_type": "code",
   "execution_count": null,
   "metadata": {},
   "outputs": [],
   "source": [
    "# Calculate maps from the original T1 sequence save as niftis\n",
    "t1_mapper = T1(magnitude_corrected, ti, affine=affine_t1, multithread=True, parameters=2)\n",
    "t1_mapper.to_nifti(output_directory=OUTPUT_DIR, base_file_name='T1_original', maps='all')\n",
    "\n",
    "# Calculate maps from the motion corrected T1 sequence and save as niftis\n",
    "t1_moco_mapper = T1(t1_moco_array, ti, affine=affine_t1, multithread=True, parameters=2)\n",
    "t1_moco_mapper.to_nifti(output_directory=OUTPUT_DIR, base_file_name='T1_moco', maps='all')"
   ]
  },
  {
   "cell_type": "markdown",
   "metadata": {},
   "source": []
  },
  {
   "cell_type": "code",
   "execution_count": null,
   "metadata": {},
   "outputs": [],
   "source": []
  },
  {
   "cell_type": "code",
   "execution_count": null,
   "metadata": {},
   "outputs": [],
   "source": [
    "fig, (ax1, ax2) = plt.subplots(2, 1, figsize=(10, 10))\n",
    "\n",
    "# Display the T1 map generated from the original data\n",
    "im = ax1.imshow(np.rot90(t1_mapper.t1_map), cmap='inferno', clim=(250, 2250))\n",
    "cb = fig.colorbar(im, ax=ax1)\n",
    "cb.set_label('$T_1 Original$ (ms)')\n",
    "ax1.axis('off')\n",
    "\n",
    "# Display the T1 map generated from the motion corrected data\n",
    "im2 = ax2.imshow(np.rot90(t1_moco_mapper.t1_map), cmap='inferno', clim=(250, 2250))\n",
    "cb = fig.colorbar(im2, ax=ax2)\n",
    "cb.set_label('$T_1 Moco$ (ms)')\n",
    "ax2.axis('off')\n",
    "\n",
    "plt.show()"
   ]
  },
  {
   "cell_type": "markdown",
   "metadata": {},
   "source": []
  },
  {
   "cell_type": "code",
   "execution_count": null,
   "metadata": {
    "collapsed": false,
    "pycharm": {
     "name": "#%%\n"
    }
   },
   "outputs": [],
   "source": [
    "# Generate a mask based on the intensity of the b0 volume. This will reduce computation times.\n",
    "mask = pixel_array[..., 0] > 20000\n",
    "\n",
    "# Calculate maps from the original diffusion sequence using ADC methods and save as niftis\n",
    "adc_mapper = ADC(pixel_array, affine_dwi, bvals, mask=mask, ukrin_b=True)\n",
    "adc_mapper.to_nifti(output_directory=OUTPUT_DIR, base_file_name='diffusion_original', maps='all')\n",
    "\n",
    "# Calculate maps from the original diffusion sequence using DTI methods and save as niftis\n",
    "dti_mapper = DTI(pixel_array, affine_dwi, bvals, bvecs, mask=mask, ukrin_b=True)\n",
    "dti_mapper.to_nifti(output_directory=OUTPUT_DIR, base_file_name='diffusion_original', maps=['md', 'fa'])\n",
    "\n",
    "# Calculate maps from the motion corrected diffusion sequence using ADC methods and save as niftis\n",
    "adc_mapper_moco = ADC(dwi_moco_array, affine_dwi, bvals, mask=mask, ukrin_b=True)\n",
    "adc_mapper.to_nifti(output_directory=OUTPUT_DIR, base_file_name='diffusion_moco', maps='all')\n",
    "\n",
    "# Calculate maps from the motion corrected diffusion sequence using DTI methods and save as niftis\n",
    "dti_mapper_moco = DTI(dwi_moco_array, affine_dwi, bvals, bvecs, mask=mask, ukrin_b=True)\n",
    "dti_mapper.to_nifti(output_directory=OUTPUT_DIR, base_file_name='diffusion_moco', maps=['md', 'fa'])"
   ]
  },
  {
   "cell_type": "markdown",
   "metadata": {},
   "source": []
  },
  {
   "cell_type": "code",
   "execution_count": null,
   "metadata": {
    "collapsed": false,
    "pycharm": {
     "name": "#%%\n"
    }
   },
   "outputs": [],
   "source": [
    "# Display the central slice of each map\n",
    "fig, ax = plt.subplots(2, 2, figsize=(8, 6))\n",
    "\n",
    "# Display a central slice of the ADC map\n",
    "im = ax[0, 0].imshow(np.rot90(adc_mapper.adc[:, :, adc_mapper.shape[2]//2]), cmap='inferno', clim=(0.001, 0.003))\n",
    "cb = fig.colorbar(im, ax=ax[0, 0])\n",
    "cb.set_label('ADC ($mm^2/s$)')\n",
    "ax[0, 0].axis('off')\n",
    "\n",
    "# Display a central slice of the MD map\n",
    "im = ax[0, 1].imshow(np.rot90(dti_mapper.md[:, :, dti_mapper.shape[2]//2]), cmap='inferno', clim=(0.001, 0.003))\n",
    "cb = fig.colorbar(im, ax=ax[0, 1])\n",
    "cb.set_label('MD ($mm^2/s$)')\n",
    "ax[0, 1].axis('off')\n",
    "\n",
    "# Display a central slice of the FA map\n",
    "im = ax[1, 0].imshow(np.rot90(dti_mapper.fa[:, :, dti_mapper.shape[2]//2]), cmap='viridis', clim=(0.1, 0.8))\n",
    "cb = fig.colorbar(im, ax=ax[1, 0])\n",
    "cb.set_label('FA')\n",
    "ax[1, 0].axis('off')\n",
    "\n",
    "# Display a central slice of the color FA map\n",
    "im = ax[1, 1].imshow(np.rot90(dti_mapper.color_fa[:, :, dti_mapper.shape[2]//2, :]))\n",
    "ax[1, 1].axis('off')"
   ]
  },
  {
   "cell_type": "code",
   "execution_count": null,
   "metadata": {},
   "outputs": [],
   "source": [
    "# Display the central slice of each map\n",
    "fig, ax = plt.subplots(2, 2, figsize=(8, 6))\n",
    "\n",
    "# Display a central slice of the ADC map\n",
    "im = ax[0, 0].imshow(np.rot90(adc_mapper_moco.adc[:, :, adc_mapper_moco.shape[2]//2]), cmap='inferno', clim=(0.001, 0.003))\n",
    "cb = fig.colorbar(im, ax=ax[0, 0])\n",
    "cb.set_label('ADC ($mm^2/s$)')\n",
    "ax[0, 0].axis('off')\n",
    "\n",
    "# Display a central slice of the MD map\n",
    "im = ax[0, 1].imshow(np.rot90(dti_mapper_moco.md[:, :, dti_mapper_moco.shape[2]//2]), cmap='inferno', clim=(0.001, 0.003))\n",
    "cb = fig.colorbar(im, ax=ax[0, 1])\n",
    "cb.set_label('MD ($mm^2/s$)')\n",
    "ax[0, 1].axis('off')\n",
    "\n",
    "# Display a central slice of the FA map\n",
    "im = ax[1, 0].imshow(np.rot90(dti_mapper_moco.fa[:, :, dti_mapper_moco.shape[2]//2]), cmap='viridis', clim=(0.1, 0.8))\n",
    "cb = fig.colorbar(im, ax=ax[1, 0])\n",
    "cb.set_label('FA')\n",
    "ax[1, 0].axis('off')\n",
    "\n",
    "# Display a central slice of the color FA map\n",
    "im = ax[1, 1].imshow(np.rot90(dti_mapper_moco.color_fa[:, :, dti_mapper_moco.shape[2]//2, :]))\n",
    "ax[1, 1].axis('off')"
   ]
  },
  {
   "cell_type": "code",
   "execution_count": null,
   "metadata": {},
   "outputs": [],
   "source": []
  }
 ],
 "metadata": {
  "kernelspec": {
   "display_name": "Python 3",
   "language": "python",
   "name": "python3"
  },
  "language_info": {
   "codemirror_mode": {
    "name": "ipython",
    "version": 3
   },
   "file_extension": ".py",
   "mimetype": "text/x-python",
   "name": "python",
   "nbconvert_exporter": "python",
   "pygments_lexer": "ipython3",
   "version": "3.7.9"
  }
 },
 "nbformat": 4,
 "nbformat_minor": 0
}
