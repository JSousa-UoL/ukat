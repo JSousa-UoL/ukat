{
 "cells": [
  {
   "cell_type": "markdown",
   "metadata": {
    "collapsed": true,
    "pycharm": {
     "name": "#%% md\n"
    }
   },
   "source": [
    "# T1 map calculation tutorial"
   ]
  },
  {
   "cell_type": "markdown",
   "metadata": {},
   "source": [
    "Start by importing the required libraries and defining some settings:"
   ]
  },
  {
   "cell_type": "code",
   "execution_count": 1,
   "metadata": {
    "pycharm": {
     "is_executing": false,
     "name": "#%%\n"
    }
   },
   "outputs": [],
   "source": [
    "import os\n",
    "import nibabel as nib\n",
    "import numpy as np\n",
    "import matplotlib.pyplot as plt\n",
    "import warnings\n",
    "\n",
    "from ukat.data import fetch\n",
    "from ukat.utils.tools import convert_to_pi_range\n",
    "from ukat.mapping.t1 import T1, magnitude_correct\n",
    "\n",
    "# Ensure figures are rendered in the notebook\n",
    "%matplotlib inline"
   ]
  },
  {
   "cell_type": "markdown",
   "metadata": {},
   "source": [
    "Tell python where to store the T1 maps NIfTI files we will generate. We will store it in a directory called `t1_calculation_output` in the `tutorials` directory."
   ]
  },
  {
   "cell_type": "code",
   "execution_count": 2,
   "metadata": {},
   "outputs": [],
   "source": [
    "# Initialise output path for B0 maps\n",
    "OUTPUT_DIR = os.path.join(os.getcwd(), \"t1_calculation_output\")"
   ]
  },
  {
   "cell_type": "markdown",
   "metadata": {},
   "source": [
    "Retrieve T1 test data using our data fetcher.\n",
    "This will return 4 variables:\n",
    "* `magnitude`: a 4D array with the magnitude data at all echo times.\n",
    "* `phase`: a 4D array with the phase data at all echo times.\n",
    "* `affine`: the affine matrix for the data (needed to later write a new NIfTI file).\n",
    "* `TIs`: an array containing the inversion times, in seconds.\n",
    "* `tss`: the temporal slice spacing of the image."
   ]
  },
  {
   "cell_type": "code",
   "execution_count": 3,
   "metadata": {
    "pycharm": {
     "is_executing": false,
     "name": "#%%\n"
    }
   },
   "outputs": [],
   "source": [
    "# Fetch test data\n",
    "magnitude, phase, affine, ti, tss = fetch.t1_philips(2)\n",
    "phase = convert_to_pi_range(phase)\n",
    "\n",
    "complex_data = magnitude * (np.cos(phase) + 1j * np.sin(phase)) # convert magnitude and phase into complex data\n",
    "ti = np.array(ti) * 1000  # convert TIs to ms\n",
    "tss *= 1000 # convert tss into ms"
   ]
  },
  {
   "cell_type": "markdown",
   "metadata": {
    "pycharm": {
     "name": "#%% md\n"
    }
   },
   "source": [
    "Let's look at the effects of magnitude correction by plotting the raw signal from a voxel within the kidney over the range \n",
    "of inversion times."
   ]
  },
  {
   "cell_type": "code",
   "execution_count": 4,
   "metadata": {
    "pycharm": {
     "is_executing": false,
     "name": "#%%\n"
    }
   },
   "outputs": [
    {
     "name": "stderr",
     "output_type": "stream",
     "text": [
      "c:\\users\\md1jgra\\desktop\\ukat\\ukat\\mapping\\t1.py:444: RuntimeWarning: invalid value encountered in true_divide\n",
      "  / np.abs(pixel_array[..., -1])\n",
      "c:\\users\\md1jgra\\desktop\\ukat\\ukat\\mapping\\t1.py:446: RuntimeWarning: invalid value encountered in true_divide\n",
      "  phase_factor = np.imag(np.log(pixel_array_prime / np.abs(pixel_array)))\n",
      "c:\\users\\md1jgra\\desktop\\ukat\\ukat\\mapping\\t1.py:446: RuntimeWarning: invalid value encountered in log\n",
      "  phase_factor = np.imag(np.log(pixel_array_prime / np.abs(pixel_array)))\n"
     ]
    },
    {
     "data": {
      "image/png": "[encoded data removed]",
      "text/plain": [
       "<Figure size 432x288 with 1 Axes>"
      ]
     },
     "metadata": {
      "needs_background": "light"
     },
     "output_type": "display_data"
    }
   ],
   "source": [
    "raw_signal = magnitude[55, 40, 2, :]\n",
    "magnitude_corrected = magnitude_correct(complex_data)\n",
    "magnitude_corrected_signal = magnitude_corrected[55, 40, 2, :]\n",
    "\n",
    "plt.plot(ti, raw_signal, label='Raw Signal')\n",
    "plt.plot(ti, magnitude_corrected_signal, label='Magnitude Corrected')\n",
    "plt.xlabel('Inversion Time (ms)')\n",
    "plt.ylabel('Signal (AU)')\n",
    "plt.grid(True)\n",
    "plt.legend()\n",
    "plt.show()"
   ]
  },
  {
   "cell_type": "markdown",
   "metadata": {},
   "source": [
    "The dynamic range of this voxel has been doubled by magnitude correcting the data. This can be used to increase the accuracy\n",
    " of our T1 maps and simplifies the equation the data is fit to by removing the absolute term.\n",
    " \n",
    "Now compute the T1 maps using the `T1` class implemented in `mapping`. By default this is executed over all available CPU cores\n",
    "however this can be run single-threaded by setting `multithread=False` although will obviously take much longer.\n",
    "\n",
    "To speed things up a bit we'll just do this for the central region of the image."
   ]
  },
  {
   "cell_type": "code",
   "execution_count": 5,
   "metadata": {
    "pycharm": {
     "is_executing": false,
     "name": "#%%\n"
    }
   },
   "outputs": [
    {
     "name": "stderr",
     "output_type": "stream",
     "text": [
      "100%|████████████████████████████████████████████████████████████████████████████| 20455/20455 [03:36<00:00, 94.26it/s]\n",
      "c:\\users\\md1jgra\\desktop\\ukat\\ukat\\mapping\\t1.py:252: RuntimeWarning: divide by zero encountered in reciprocal\n",
      "  return np.reciprocal(self.t1_map)\n"
     ]
    }
   ],
   "source": [
    "mapper = T1(magnitude_corrected[32:-32, 32:-32, :, :], ti, multithread=True, parameters=2, tss=tss)\n",
    "\n",
    "# Save output maps to Nifti\n",
    "mapper.to_nifti(output_directory=OUTPUT_DIR, base_file_name='Philips2', maps='all', affine=affine)\n",
    "mapper.to_nifti(output_directory=OUTPUT_DIR, base_file_name='Philips2', maps=['m0_err', 'r1'], affine=affine)"
   ]
  },
  {
   "cell_type": "markdown",
   "metadata": {},
   "source": [
    "Display the T1 map."
   ]
  },
  {
   "cell_type": "code",
   "execution_count": null,
   "metadata": {
    "pycharm": {
     "is_executing": false,
     "name": "#%%\n"
    }
   },
   "outputs": [],
   "source": [
    "fig, ax1 = plt.subplots()\n",
    "\n",
    "# Display the T1 map generated from the raw magnitude data\n",
    "im = ax1.imshow(np.rot90(mapper.t1_map[:, :, 2]), cmap='inferno', clim=(250, 2250))\n",
    "cb = fig.colorbar(im, ax=ax1)\n",
    "cb.set_label('$T_1$ (ms)')\n",
    "ax1.axis('off')\n",
    "\n",
    "plt.show()"
   ]
  }
 ],
 "metadata": {
  "kernelspec": {
   "display_name": "Python 3",
   "language": "python",
   "name": "python3"
  },
  "language_info": {
   "codemirror_mode": {
    "name": "ipython",
    "version": 3
   },
   "file_extension": ".py",
   "mimetype": "text/x-python",
   "name": "python",
   "nbconvert_exporter": "python",
   "pygments_lexer": "ipython3",
   "version": "3.7.9"
  },
  "pycharm": {
   "stem_cell": {
    "cell_type": "raw",
    "metadata": {
     "collapsed": false
    },
    "source": []
   }
  }
 },
 "nbformat": 4,
 "nbformat_minor": 1
}
