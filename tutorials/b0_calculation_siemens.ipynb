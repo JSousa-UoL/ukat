{
 "cells": [
  {
   "cell_type": "markdown",
   "metadata": {},
   "source": [
    "# B0 map calculation tutorial"
   ]
  },
  {
   "cell_type": "markdown",
   "metadata": {},
   "source": [
    "Start by importing the required libraries and defining some settings:"
   ]
  },
  {
   "cell_type": "code",
   "execution_count": null,
   "metadata": {},
   "outputs": [],
   "source": [
    "# Ensure `data` and `methods` can be imported\n",
    "import sys\n",
    "sys.path.insert(0, '..')\n",
    "\n",
    "# Other imports\n",
    "import os\n",
    "import nibabel as nib\n",
    "import numpy as np\n",
    "import matplotlib.pyplot as plt\n",
    "import warnings\n",
    "\n",
    "# UKRIN-MAPS modules\n",
    "import data.fetch                  # Test data fetcher\n",
    "from methods.B0Map import B0Map    # B0 mapping module\n",
    "\n",
    "# Enable inline plotting; hide T2Star_Nottingham() RuntimeWarnings\n",
    "%matplotlib inline\n",
    "warnings.filterwarnings('ignore')"
   ]
  },
  {
   "cell_type": "markdown",
   "metadata": {},
   "source": [
    "Tell python where to store the B0 map NIfTI file we will generate. We will store it in a directory called `b0_calculation_output` in the `tutorials` directory."
   ]
  },
  {
   "cell_type": "code",
   "execution_count": null,
   "metadata": {},
   "outputs": [],
   "source": [
    "# Initialise output path for T2star map\n",
    "OUTPUT_DIR = os.path.join(os.getcwd(), \"b0_calculation_output\")\n",
    "OUTPUT_PATH_1 = os.path.join(OUTPUT_DIR, 'B0MapSIEMENS-1.nii.gz')\n",
    "OUTPUT_PATH_2 = os.path.join(OUTPUT_DIR, 'B0MapSIEMENS-2.nii.gz')"
   ]
  },
  {
   "cell_type": "markdown",
   "metadata": {},
   "source": [
    "Retrieve B0 test data using our data fetcher.\n",
    "This will return 4 variables:\n",
    "* `magnitude`: a 4D array with the magnitude data at all echo times.\n",
    "* `phase`: a 4D array with the phase data at all echo times.\n",
    "* `affine`: the affine matrix for the data (needed to later write a new NIfTI file).\n",
    "* `TEs`: an array containing the echo times, in seconds."
   ]
  },
  {
   "cell_type": "code",
   "execution_count": null,
   "metadata": {},
   "outputs": [],
   "source": [
    "# Fetch test data\n",
    "magnitude_1, phase_1, affine_1, TEs_1 = data.fetch.b0_siemens_1()\n",
    "magnitude_2, phase_2, affine_2, TEs_2 = data.fetch.b0_siemens_2()"
   ]
  },
  {
   "cell_type": "markdown",
   "metadata": {},
   "source": [
    "Compute the B0 map using the `B0Map` class implemented in `methods`:"
   ]
  },
  {
   "cell_type": "code",
   "execution_count": null,
   "metadata": {},
   "outputs": [],
   "source": [
    "# Compute T2star map\n",
    "TEs_1 = TEs_1 * 1000  # convert TEs to ms\n",
    "b0_1 = B0Map(phase_1, TEs_1)\n",
    "TEs_2 = TEs_2 * 1000  # convert TEs to ms\n",
    "b0_2 = B0Map(phase_2, TEs_2)"
   ]
  },
  {
   "cell_type": "markdown",
   "metadata": {},
   "source": [
    "Display a central slice of the B0 map. Note the units are _rad/s_."
   ]
  },
  {
   "cell_type": "code",
   "execution_count": null,
   "metadata": {},
   "outputs": [],
   "source": [
    "# Display a central slice of the T2star map\n",
    "b0_central_slice = np.rot90(b0_1[:,6,:], 1)\n",
    "ax = plt.subplots()[1]\n",
    "im = ax.imshow(b0_central_slice, vmin=-1000, vmax=1000)\n",
    "plt.colorbar(im)\n",
    "plt.show()"
   ]
  },
  {
   "cell_type": "code",
   "execution_count": null,
   "metadata": {},
   "outputs": [],
   "source": [
    "# Display a central slice of the T2star map\n",
    "b0_central_slice = np.rot90(b0_2[:,:,6], 1)\n",
    "ax = plt.subplots()[1]\n",
    "im = ax.imshow(b0_central_slice, vmin=-1000, vmax=1000)\n",
    "plt.colorbar(im)\n",
    "plt.show()"
   ]
  },
  {
   "cell_type": "markdown",
   "metadata": {},
   "source": [
    "Save the resulting B0 map as a NIfTI file:"
   ]
  },
  {
   "cell_type": "code",
   "execution_count": null,
   "metadata": {},
   "outputs": [],
   "source": [
    "# Save results as a new NifTI file\n",
    "b0_nifti_object_1 = nib.Nifti1Image(b0_1, affine=affine_1)\n",
    "nib.save(b0_nifti_object_1, OUTPUT_PATH_1)\n",
    "b0_nifti_object_2 = nib.Nifti1Image(b0_2, affine=affine_2)\n",
    "nib.save(b0_nifti_object_2, OUTPUT_PATH_2)"
   ]
  },
  {
   "cell_type": "code",
   "execution_count": null,
   "metadata": {},
   "outputs": [],
   "source": []
  }
 ],
 "metadata": {
  "kernelspec": {
   "display_name": "Python 3",
   "language": "python",
   "name": "python3"
  },
  "language_info": {
   "codemirror_mode": {
    "name": "ipython",
    "version": 3
   },
   "file_extension": ".py",
   "mimetype": "text/x-python",
   "name": "python",
   "nbconvert_exporter": "python",
   "pygments_lexer": "ipython3",
   "version": "3.7.4"
  }
 },
 "nbformat": 4,
 "nbformat_minor": 4
}
