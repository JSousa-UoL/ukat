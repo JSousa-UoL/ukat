{
 "cells": [
  {
   "cell_type": "markdown",
   "metadata": {
    "collapsed": true,
    "pycharm": {
     "name": "#%% md\n"
    }
   },
   "source": [
    "# Diffusion mapping tutorial"
   ]
  },
  {
   "cell_type": "markdown",
   "metadata": {
    "collapsed": false
   },
   "source": [
    "Start by importing the required libraries and defining some settings:"
   ]
  },
  {
   "cell_type": "code",
   "execution_count": null,
   "metadata": {
    "collapsed": false,
    "pycharm": {
     "name": "#%%\n"
    }
   },
   "outputs": [],
   "source": [
    "import os\n",
    "import numpy as np\n",
    "import nibabel as nib\n",
    "import matplotlib.pyplot as plt\n",
    "\n",
    "from ukat.data import fetch\n",
    "from ukat.mapping.diffusion import ADC, DTI\n",
    "from MDR import MDR, Tools\n",
    "import ukat.moco.mdr_functions as mdr_functions\n",
    "\n",
    "# Ensure figures are rendered in the notebook\n",
    "%matplotlib inline\n",
    "\n",
    "# Initialise output path for the Model-Driven Registration process\n",
    "directory = 'diffusion_motion_correction_output'\n",
    "os.makedirs(directory, exist_ok=True)\n",
    "OUTPUT_DIR = os.path.join(os.getcwd(), directory)"
   ]
  },
  {
   "cell_type": "code",
   "execution_count": 6,
   "metadata": {},
   "outputs": [
    {
     "name": "stdout",
     "output_type": "stream",
     "text": [
      "(8, 8, 3, 5)\n"
     ]
    }
   ],
   "source": [
    "import numpy as np\n",
    "test_2d = np.ones((8,8,3))\n",
    "test = [test_2d, test_2d, test_2d, test_2d, test_2d]\n",
    "final = np.stack(test, axis=2)\n",
    "print(np.shape(final))"
   ]
  },
  {
   "cell_type": "code",
   "execution_count": null,
   "metadata": {
    "collapsed": false,
    "pycharm": {
     "name": "#%%\n"
    }
   },
   "outputs": [],
   "source": [
    "# Fetch test data\n",
    "pixel_array, affine, bvals, bvecs = fetch.dwi_philips()"
   ]
  },
  {
   "cell_type": "code",
   "execution_count": null,
   "metadata": {},
   "outputs": [],
   "source": [
    "# Pre-processing as preparation for the Model-Driven Registration process\n",
    "pixel_spacing = (np.linalg.norm(affine[:3, 1]), np.linalg.norm(affine[:3, 0]))\n",
    "elastix_model_parameters = Tools.read_elastix_model_parameters(\"../ukat/moco/BSplines_DWI.txt\")\n",
    "list_input_parameters = [affine, bvals, None, False]\n",
    "print(elastix_model_parameters)"
   ]
  },
  {
   "cell_type": "code",
   "execution_count": null,
   "metadata": {},
   "outputs": [],
   "source": [
    "# Model-driven registration\n",
    "moco_array = []\n",
    "fit_array = []\n",
    "for index in range(np.shape(pixel_array)[2]):\n",
    "    pixel_array_2D = pixel_array[: , :, index, :]\n",
    "    mdr_output_2D = MDR.model_driven_registration(pixel_array_2D, pixel_spacing, mdr_functions, list_input_parameters, elastix_model_parameters, precision=3, function='DWI_Moco', log=False)\n",
    "    moco_array_2D = mdr_output_2D[0]\n",
    "    fit_array_2D = mdr_output_2D[1]\n",
    "    moco_array.append(moco_array_2D)\n",
    "    fit_array.append(fit_array_2D)\n",
    "moco_array = np.stack(moco_array, axis=2)\n",
    "fit_array_2D = np.stack(fit_array_2D, axis=2)"
   ]
  },
  {
   "cell_type": "code",
   "execution_count": null,
   "metadata": {},
   "outputs": [],
   "source": [
    "# Save motion corrected diffusion sequence to NIfTI\n",
    "moco_nifti = nib.Nifti1Image(moco_array, affine=affine)\n",
    "nib.save(moco_nifti, os.path.join(OUTPUT_DIR ,'DWI_motion_corrected.nii.gz'))"
   ]
  },
  {
   "cell_type": "code",
   "execution_count": null,
   "metadata": {
    "collapsed": false,
    "pycharm": {
     "name": "#%%\n"
    }
   },
   "outputs": [],
   "source": [
    "# Generate a mask based on the intensity of the b0 volume. This will reduce computation times.\n",
    "mask = pixel_array[..., 0] > 20000\n",
    "\n",
    "# Calculate maps from the original diffusion sequence using ADC methods and save as niftis\n",
    "adc_mapper = ADC(pixel_array, affine, bvals, mask=mask, ukrin_b=True)\n",
    "adc_mapper.to_nifti(output_directory=OUTPUT_DIR, base_file_name='diffusion_original', maps='all')\n",
    "\n",
    "# Calculate maps from the original diffusion sequence using DTI methods and save as niftis\n",
    "dti_mapper = DTI(pixel_array, affine, bvals, bvecs, mask=mask, ukrin_b=True)\n",
    "dti_mapper.to_nifti(output_directory=OUTPUT_DIR, base_file_name='diffusion_original', maps=['md', 'fa'])\n",
    "\n",
    "# Calculate maps from the motion corrected diffusion sequence using ADC methods and save as niftis\n",
    "adc_mapper = ADC(moco_array, affine, bvals, mask=mask, ukrin_b=True)\n",
    "adc_mapper.to_nifti(output_directory=OUTPUT_DIR, base_file_name='diffusion_moco', maps='all')\n",
    "\n",
    "# Calculate maps from the motion corrected diffusion sequence using DTI methods and save as niftis\n",
    "dti_mapper = DTI(moco_array, affine, bvals, bvecs, mask=mask, ukrin_b=True)\n",
    "dti_mapper.to_nifti(output_directory=OUTPUT_DIR, base_file_name='diffusion_moco', maps=['md', 'fa'])"
   ]
  },
  {
   "cell_type": "code",
   "execution_count": null,
   "metadata": {
    "collapsed": false,
    "pycharm": {
     "name": "#%%\n"
    }
   },
   "outputs": [],
   "source": [
    "# Display the central slice of each map\n",
    "fig, ax = plt.subplots(2, 2, figsize=(8, 6))\n",
    "\n",
    "# Display a central slice of the ADC map\n",
    "im = ax[0, 0].imshow(np.rot90(adc_mapper.adc[:, :, adc_mapper.shape[2]//2]), cmap='inferno', clim=(0.001, 0.003))\n",
    "cb = fig.colorbar(im, ax=ax[0, 0])\n",
    "cb.set_label('ADC ($mm^2/s$)')\n",
    "ax[0, 0].axis('off')\n",
    "\n",
    "# Display a central slice of the MD map\n",
    "im = ax[0, 1].imshow(np.rot90(dti_mapper.md[:, :, dti_mapper.shape[2]//2]), cmap='inferno', clim=(0.001, 0.003))\n",
    "cb = fig.colorbar(im, ax=ax[0, 1])\n",
    "cb.set_label('MD ($mm^2/s$)')\n",
    "ax[0, 1].axis('off')\n",
    "\n",
    "# Display a central slice of the FA map\n",
    "im = ax[1, 0].imshow(np.rot90(dti_mapper.fa[:, :, dti_mapper.shape[2]//2]), cmap='viridis', clim=(0.1, 0.8))\n",
    "cb = fig.colorbar(im, ax=ax[1, 0])\n",
    "cb.set_label('FA')\n",
    "ax[1, 0].axis('off')\n",
    "\n",
    "# Display a central slice of the color FA map\n",
    "im = ax[1, 1].imshow(np.rot90(dti_mapper.color_fa[:, :, dti_mapper.shape[2]//2, :]))\n",
    "ax[1, 1].axis('off')"
   ]
  }
 ],
 "metadata": {
  "kernelspec": {
   "display_name": "Python 3",
   "language": "python",
   "name": "python3"
  },
  "language_info": {
   "codemirror_mode": {
    "name": "ipython",
    "version": 3
   },
   "file_extension": ".py",
   "mimetype": "text/x-python",
   "name": "python",
   "nbconvert_exporter": "python",
   "pygments_lexer": "ipython3",
   "version": "3.7.9"
  }
 },
 "nbformat": 4,
 "nbformat_minor": 0
}
