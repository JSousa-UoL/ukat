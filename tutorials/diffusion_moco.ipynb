{
 "cells": [
  {
   "cell_type": "markdown",
   "metadata": {
    "collapsed": true,
    "pycharm": {
     "name": "#%% md\n"
    }
   },
   "source": [
    "# Diffusion motion correction tutorial"
   ]
  },
  {
   "cell_type": "markdown",
   "metadata": {
    "collapsed": false
   },
   "source": [
    "Start by importing the required libraries and defining some settings:"
   ]
  },
  {
   "cell_type": "code",
   "execution_count": 1,
   "metadata": {
    "collapsed": false,
    "pycharm": {
     "name": "#%%\n"
    }
   },
   "outputs": [],
   "source": [
    "import os\n",
    "import numpy as np\n",
    "import matplotlib.pyplot as plt\n",
    "\n",
    "from ukat.data import fetch\n",
    "from ukat.mapping.diffusion import ADC, DTI\n",
    "from ukat.moco.mdr import MotionCorrection\n",
    "\n",
    "# Ensure figures are rendered in the notebook\n",
    "%matplotlib inline\n",
    "\n",
    "# Initialise output path for the Model-Driven Registration process\n",
    "directory = 'diffusion_motion_correction_output'\n",
    "os.makedirs(directory, exist_ok=True)\n",
    "OUTPUT_DIR = os.path.join(os.getcwd(), directory)"
   ]
  },
  {
   "cell_type": "code",
   "execution_count": 2,
   "metadata": {
    "collapsed": false,
    "pycharm": {
     "name": "#%%\n"
    }
   },
   "outputs": [],
   "source": [
    "# Fetch test data\n",
    "pixel_array, affine, bvals, bvecs = fetch.dwi_philips()\n",
    "# Pre-processing as preparation for the Model-Driven Registration process\n",
    "list_input_parameters = [affine, bvals, None, False]"
   ]
  },
  {
   "cell_type": "code",
   "execution_count": 3,
   "metadata": {},
   "outputs": [
    {
     "name": "stderr",
     "output_type": "stream",
     "text": [
      "100%|██████████| 15878/15878 [00:02<00:00, 6786.63it/s]\n",
      "Co-registration progress: 100%|██████████| 79/79 [02:43<00:00,  2.07s/it]\n",
      "100%|██████████| 15906/15906 [00:02<00:00, 6177.13it/s]\n",
      "Co-registration progress: 100%|██████████| 79/79 [02:39<00:00,  2.02s/it]\n",
      "100%|██████████| 15898/15898 [00:02<00:00, 6033.26it/s]\n",
      "Co-registration progress: 100%|██████████| 79/79 [02:41<00:00,  2.05s/it]\n",
      "100%|██████████| 16059/16059 [00:02<00:00, 6306.56it/s]\n",
      "Co-registration progress: 100%|██████████| 79/79 [02:41<00:00,  2.05s/it]\n",
      "100%|██████████| 16029/16029 [00:02<00:00, 6742.23it/s]\n",
      "Co-registration progress: 100%|██████████| 79/79 [02:36<00:00,  1.98s/it]\n",
      "100%|██████████| 16042/16042 [00:02<00:00, 6809.34it/s]\n",
      "Co-registration progress: 100%|██████████| 79/79 [02:50<00:00,  2.15s/it]\n",
      "100%|██████████| 15965/15965 [00:02<00:00, 6079.89it/s]\n",
      "Co-registration progress: 100%|██████████| 79/79 [02:39<00:00,  2.02s/it]\n",
      "100%|██████████| 15676/15676 [00:02<00:00, 5486.48it/s]\n",
      "Co-registration progress: 100%|██████████| 79/79 [02:43<00:00,  2.06s/it]\n",
      "100%|██████████| 15130/15130 [00:02<00:00, 6129.13it/s]\n",
      "Co-registration progress: 100%|██████████| 79/79 [02:47<00:00,  2.12s/it]\n"
     ]
    }
   ],
   "source": [
    "# Model-driven registration\n",
    "registration = MotionCorrection(pixel_array, affine, 'DWI_Moco', list_input_parameters, convergence=5, multithread=True, log=False)\n",
    "registration.run()"
   ]
  },
  {
   "cell_type": "code",
   "execution_count": 6,
   "metadata": {},
   "outputs": [],
   "source": [
    "# Get the coregistered input pixel_array\n",
    "moco_array = registration.get_coregistered()\n",
    "# Save motion corrected diffusion sequence to NIfTI\n",
    "registration.to_nifti(output_directory=OUTPUT_DIR, base_file_name='DWI_motion_corrected', maps=['coregistered', 'fitted', 'deformation_field'])"
   ]
  },
  {
   "cell_type": "code",
   "execution_count": 7,
   "metadata": {
    "collapsed": false,
    "pycharm": {
     "name": "#%%\n"
    }
   },
   "outputs": [
    {
     "name": "stderr",
     "output_type": "stream",
     "text": [
      "100%|██████████| 57399/57399 [00:08<00:00, 6998.09it/s]\n",
      "100%|██████████| 57103/57103 [00:08<00:00, 6745.59it/s]\n"
     ]
    }
   ],
   "source": [
    "# Generate a mask based on the intensity of the b0 volume. This will reduce computation times.\n",
    "mask = pixel_array[..., 0] > 20000\n",
    "\n",
    "# Calculate maps from the original diffusion sequence using ADC methods and save as niftis\n",
    "adc_mapper = ADC(pixel_array, affine, bvals, mask=mask, ukrin_b=True)\n",
    "adc_mapper.to_nifti(output_directory=OUTPUT_DIR, base_file_name='diffusion_original', maps='all')\n",
    "\n",
    "# Calculate maps from the original diffusion sequence using DTI methods and save as niftis\n",
    "dti_mapper = DTI(pixel_array, affine, bvals, bvecs, mask=mask, ukrin_b=True)\n",
    "dti_mapper.to_nifti(output_directory=OUTPUT_DIR, base_file_name='diffusion_original', maps=['md', 'fa'])\n",
    "\n",
    "# Calculate maps from the motion corrected diffusion sequence using ADC methods and save as niftis\n",
    "adc_mapper_moco = ADC(moco_array, affine, bvals, mask=mask, ukrin_b=True)\n",
    "adc_mapper.to_nifti(output_directory=OUTPUT_DIR, base_file_name='diffusion_moco', maps='all')\n",
    "\n",
    "# Calculate maps from the motion corrected diffusion sequence using DTI methods and save as niftis\n",
    "dti_mapper_moco = DTI(moco_array, affine, bvals, bvecs, mask=mask, ukrin_b=True)\n",
    "dti_mapper.to_nifti(output_directory=OUTPUT_DIR, base_file_name='diffusion_moco', maps=['md', 'fa'])"
   ]
  },
  {
   "cell_type": "code",
   "execution_count": null,
   "metadata": {
    "collapsed": false,
    "pycharm": {
     "name": "#%%\n"
    }
   },
   "outputs": [],
   "source": [
    "# Display the central slice of each map\n",
    "fig, ax = plt.subplots(2, 2, figsize=(8, 6))\n",
    "\n",
    "# Display a central slice of the ADC map\n",
    "im = ax[0, 0].imshow(np.rot90(adc_mapper.adc[:, :, adc_mapper.shape[2]//2]), cmap='inferno', clim=(0.001, 0.003))\n",
    "cb = fig.colorbar(im, ax=ax[0, 0])\n",
    "cb.set_label('ADC ($mm^2/s$)')\n",
    "ax[0, 0].axis('off')\n",
    "\n",
    "# Display a central slice of the MD map\n",
    "im = ax[0, 1].imshow(np.rot90(dti_mapper.md[:, :, dti_mapper.shape[2]//2]), cmap='inferno', clim=(0.001, 0.003))\n",
    "cb = fig.colorbar(im, ax=ax[0, 1])\n",
    "cb.set_label('MD ($mm^2/s$)')\n",
    "ax[0, 1].axis('off')\n",
    "\n",
    "# Display a central slice of the FA map\n",
    "im = ax[1, 0].imshow(np.rot90(dti_mapper.fa[:, :, dti_mapper.shape[2]//2]), cmap='viridis', clim=(0.1, 0.8))\n",
    "cb = fig.colorbar(im, ax=ax[1, 0])\n",
    "cb.set_label('FA')\n",
    "ax[1, 0].axis('off')\n",
    "\n",
    "# Display a central slice of the color FA map\n",
    "im = ax[1, 1].imshow(np.rot90(dti_mapper.color_fa[:, :, dti_mapper.shape[2]//2, :]))\n",
    "ax[1, 1].axis('off')"
   ]
  },
  {
   "cell_type": "code",
   "execution_count": null,
   "metadata": {},
   "outputs": [],
   "source": [
    "# Display the central slice of each map\n",
    "fig, ax = plt.subplots(2, 2, figsize=(8, 6))\n",
    "\n",
    "# Display a central slice of the ADC map\n",
    "im = ax[0, 0].imshow(np.rot90(adc_mapper_moco.adc[:, :, adc_mapper_moco.shape[2]//2]), cmap='inferno', clim=(0.001, 0.003))\n",
    "cb = fig.colorbar(im, ax=ax[0, 0])\n",
    "cb.set_label('ADC ($mm^2/s$)')\n",
    "ax[0, 0].axis('off')\n",
    "\n",
    "# Display a central slice of the MD map\n",
    "im = ax[0, 1].imshow(np.rot90(dti_mapper_moco.md[:, :, dti_mapper_moco.shape[2]//2]), cmap='inferno', clim=(0.001, 0.003))\n",
    "cb = fig.colorbar(im, ax=ax[0, 1])\n",
    "cb.set_label('MD ($mm^2/s$)')\n",
    "ax[0, 1].axis('off')\n",
    "\n",
    "# Display a central slice of the FA map\n",
    "im = ax[1, 0].imshow(np.rot90(dti_mapper_moco.fa[:, :, dti_mapper_moco.shape[2]//2]), cmap='viridis', clim=(0.1, 0.8))\n",
    "cb = fig.colorbar(im, ax=ax[1, 0])\n",
    "cb.set_label('FA')\n",
    "ax[1, 0].axis('off')\n",
    "\n",
    "# Display a central slice of the color FA map\n",
    "im = ax[1, 1].imshow(np.rot90(dti_mapper_moco.color_fa[:, :, dti_mapper_moco.shape[2]//2, :]))\n",
    "ax[1, 1].axis('off')"
   ]
  }
 ],
 "metadata": {
  "kernelspec": {
   "display_name": "Python 3",
   "language": "python",
   "name": "python3"
  },
  "language_info": {
   "codemirror_mode": {
    "name": "ipython",
    "version": 3
   },
   "file_extension": ".py",
   "mimetype": "text/x-python",
   "name": "python",
   "nbconvert_exporter": "python",
   "pygments_lexer": "ipython3",
   "version": "3.7.9"
  }
 },
 "nbformat": 4,
 "nbformat_minor": 0
}
