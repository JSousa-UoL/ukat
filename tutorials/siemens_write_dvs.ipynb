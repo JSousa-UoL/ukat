{
 "metadata": {
  "language_info": {
   "codemirror_mode": {
    "name": "ipython",
    "version": 3
   },
   "file_extension": ".py",
   "mimetype": "text/x-python",
   "name": "python",
   "nbconvert_exporter": "python",
   "pygments_lexer": "ipython3",
   "version": "3.8.2-final"
  },
  "orig_nbformat": 2,
  "kernelspec": {
   "name": "ukat",
   "display_name": "ukat"
  }
 },
 "nbformat": 4,
 "nbformat_minor": 2,
 "cells": [
  {
   "source": [
    "# Tutorial: generating Siemens .dvs files for DWI acquisitions"
   ],
   "cell_type": "markdown",
   "metadata": {}
  },
  {
   "cell_type": "code",
   "execution_count": 1,
   "metadata": {},
   "outputs": [],
   "source": [
    "import tempfile\n",
    "from os import path\n",
    "import numpy as np\n",
    "from ukat.mapping.dwi import make_gradient_scheme\n",
    "from ukat.utils.siemens import write_dvs"
   ]
  },
  {
   "source": [
    "## Specify b-values and b-vectors, and create a gradient scheme\n",
    "This example corresponds to an acquisition with two non-zero b-values and 3 directions each, as well as a b=0 measurement at the beginning of the scan.\n"
   ],
   "cell_type": "markdown",
   "metadata": {}
  },
  {
   "cell_type": "code",
   "execution_count": 2,
   "metadata": {},
   "outputs": [
    {
     "output_type": "stream",
     "name": "stdout",
     "text": [
      "        1.0          0.0          0.0      0\n        1.0          0.0          0.0    200\n        1.0          0.0          0.0    800\n        0.0          1.0          0.0    200\n        0.0          1.0          0.0    800\n        0.0          0.0          1.0    200\n        0.0          0.0          1.0    800\n"
     ]
    }
   ],
   "source": [
    "bvals = [0, 200, 800]\n",
    "bvecs = [[1, 0, 0],\n",
    "         [0, 1, 0],\n",
    "         [0, 0, 1]]\n",
    "\n",
    "gradient_scheme = make_gradient_scheme(bvals, bvecs, normalize=True,\n",
    "                                       one_bzero=True)\n",
    "print(gradient_scheme)\n"
   ]
  },
  {
   "source": [
    "## Create the .dvs file and print its contents\n",
    "Note that the .dvs file is created in a temporary directory which is automatically deleted after running this tutorial as for demonstration purposes it suffices just showing the .dvs file contents "
   ],
   "cell_type": "markdown",
   "metadata": {}
  },
  {
   "cell_type": "code",
   "execution_count": 3,
   "metadata": {},
   "outputs": [
    {
     "output_type": "stream",
     "name": "stdout",
     "text": [
      "# -----------------------------------------------------\n# .dvs file for the following setup:\n# b-val (s/mm2)  # directions\n# 0              1\n# 200            3\n# 800            3\n# -----------------------------------------------------\n\n[directions=7]\nNormalization = none\nCoordinateSystem = xyz\nComment = Example .dvs file\n\nVector[0] = ( 0.000000, 0.000000, 0.000000 )\nVector[1] = ( 0.500000, 0.000000, 0.000000 )\nVector[2] = ( 1.000000, 0.000000, 0.000000 )\nVector[3] = ( 0.000000, 0.500000, 0.000000 )\nVector[4] = ( 0.000000, 1.000000, 0.000000 )\nVector[5] = ( 0.000000, 0.000000, 0.500000 )\nVector[6] = ( 0.000000, 0.000000, 1.000000 )\n\n# b-value[0] = 0\n# b-value[1] = 200\n# b-value[2] = 800\n# b-value[3] = 200\n# b-value[4] = 800\n# b-value[5] = 200\n# b-value[6] = 800\n"
     ]
    }
   ],
   "source": [
    "with tempfile.TemporaryDirectory() as tmpdir:\n",
    "    tmp_filepath = path.join(tmpdir, \"tmp\")\n",
    "    dvs_path, dvs = write_dvs(gradient_scheme, tmp_filepath,\n",
    "                              normalization='none', coordinate_system='xyz',\n",
    "                              comment='Example .dvs file')\n",
    "\n",
    "print(dvs)"
   ]
  },
  {
   "source": [
    "Note that this tutorial shows a minimal range of `bvals` and `bvecs` to avoid printing too much text. To generate a .dvs file corresponding to the current UKRIN-MAPS diffusion protocol, use the following `bvals` and `bvecs`\n",
    "\n",
    "```python\n",
    "bvals = [0, 5, 10, 20, 30, 40, 50, 70, 100, 200, 300, 400, 500, 800]\n",
    "bvecs = [[1, 0, 1],\n",
    "         [-1, 0, 1],\n",
    "         [0, 1, 1],\n",
    "         [0, 1, -1],\n",
    "         [1, 1, 0],\n",
    "         [-1, 1, 0]]\n",
    "# These `bvecs` are the preset diffusion gradient directions on the Siemens\n",
    "# MDDW mode when selecting number of directions = 6 \n",
    "# (source: Siemens syngo MR E11 Operator Manual - Neuro p. 138)\n",
    "```\n"
   ],
   "cell_type": "markdown",
   "metadata": {}
  }
 ]
}