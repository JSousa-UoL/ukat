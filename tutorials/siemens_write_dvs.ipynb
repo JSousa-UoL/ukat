{
 "metadata": {
  "language_info": {
   "codemirror_mode": {
    "name": "ipython",
    "version": 3
   },
   "file_extension": ".py",
   "mimetype": "text/x-python",
   "name": "python",
   "nbconvert_exporter": "python",
   "pygments_lexer": "ipython3",
   "version": "3.8.2-final"
  },
  "orig_nbformat": 2,
  "kernelspec": {
   "name": "ukat",
   "display_name": "ukat"
  }
 },
 "nbformat": 4,
 "nbformat_minor": 2,
 "cells": [
  {
   "source": [
    "# Tutorial: generating Siemens .dvs files for DWI acquisitions"
   ],
   "cell_type": "markdown",
   "metadata": {}
  },
  {
   "cell_type": "code",
   "execution_count": 1,
   "metadata": {},
   "outputs": [],
   "source": [
    "import tempfile\n",
    "import os\n",
    "import numpy as np\n",
    "from ukat.mapping.dwi import make_gradient_scheme\n",
    "from ukat.utils.siemens import write_dvs"
   ]
  },
  {
   "cell_type": "code",
   "execution_count": 2,
   "metadata": {},
   "outputs": [],
   "source": [
    "# File path for output .dvs file\n",
    "OUTPUT_DIR = os.path.join(os.getcwd(), \"siemens_write_dvs_output\")\n",
    "OUTPUT_PATH = os.path.join(OUTPUT_DIR, \"ukrinmaps_13b_06dir_v2_prs\")\n",
    "\n",
    "# write_dvs() settings\n",
    "NORMALIZATION = \"none\"\n",
    "COORDINATE_SYSTEM = \"prs\"\n",
    "COMMENT = \"UKRIN-MAPS v2 (prs coordinate system), 20201121\""
   ]
  },
  {
   "source": [
    "## Specify b-values and b-vectors, create a gradient scheme, and display it\n",
    "The `bvals` and `bvecs` below generate the gradient scheme which is used to create the .dvs file which is used in the current UKRIN-MAPS diffusion acquisition protocol. These `bvecs` are the preset diffusion gradient directions on the Siemens MDDW mode when selecting number of directions = 6 (source: Siemens syngo MR E11 Operator Manual - Neuro p. 138).\n"
   ],
   "cell_type": "markdown",
   "metadata": {}
  },
  {
   "cell_type": "code",
   "execution_count": 3,
   "metadata": {},
   "outputs": [
    {
     "output_type": "stream",
     "name": "stdout",
     "text": [
      " 0.70710678          0.0   0.70710678      0\n 0.70710678          0.0   0.70710678      5\n 0.70710678          0.0   0.70710678     10\n 0.70710678          0.0   0.70710678     20\n 0.70710678          0.0   0.70710678     30\n 0.70710678          0.0   0.70710678     40\n 0.70710678          0.0   0.70710678     50\n 0.70710678          0.0   0.70710678     70\n 0.70710678          0.0   0.70710678    100\n 0.70710678          0.0   0.70710678    200\n 0.70710678          0.0   0.70710678    300\n 0.70710678          0.0   0.70710678    400\n 0.70710678          0.0   0.70710678    500\n 0.70710678          0.0   0.70710678    800\n-0.70710678          0.0   0.70710678      5\n-0.70710678          0.0   0.70710678     10\n-0.70710678          0.0   0.70710678     20\n-0.70710678          0.0   0.70710678     30\n-0.70710678          0.0   0.70710678     40\n-0.70710678          0.0   0.70710678     50\n-0.70710678          0.0   0.70710678     70\n-0.70710678          0.0   0.70710678    100\n-0.70710678          0.0   0.70710678    200\n-0.70710678          0.0   0.70710678    300\n-0.70710678          0.0   0.70710678    400\n-0.70710678          0.0   0.70710678    500\n-0.70710678          0.0   0.70710678    800\n        0.0   0.70710678   0.70710678      5\n        0.0   0.70710678   0.70710678     10\n        0.0   0.70710678   0.70710678     20\n        0.0   0.70710678   0.70710678     30\n        0.0   0.70710678   0.70710678     40\n        0.0   0.70710678   0.70710678     50\n        0.0   0.70710678   0.70710678     70\n        0.0   0.70710678   0.70710678    100\n        0.0   0.70710678   0.70710678    200\n        0.0   0.70710678   0.70710678    300\n        0.0   0.70710678   0.70710678    400\n        0.0   0.70710678   0.70710678    500\n        0.0   0.70710678   0.70710678    800\n        0.0   0.70710678  -0.70710678      5\n        0.0   0.70710678  -0.70710678     10\n        0.0   0.70710678  -0.70710678     20\n        0.0   0.70710678  -0.70710678     30\n        0.0   0.70710678  -0.70710678     40\n        0.0   0.70710678  -0.70710678     50\n        0.0   0.70710678  -0.70710678     70\n        0.0   0.70710678  -0.70710678    100\n        0.0   0.70710678  -0.70710678    200\n        0.0   0.70710678  -0.70710678    300\n        0.0   0.70710678  -0.70710678    400\n        0.0   0.70710678  -0.70710678    500\n        0.0   0.70710678  -0.70710678    800\n 0.70710678   0.70710678          0.0      5\n 0.70710678   0.70710678          0.0     10\n 0.70710678   0.70710678          0.0     20\n 0.70710678   0.70710678          0.0     30\n 0.70710678   0.70710678          0.0     40\n 0.70710678   0.70710678          0.0     50\n 0.70710678   0.70710678          0.0     70\n 0.70710678   0.70710678          0.0    100\n 0.70710678   0.70710678          0.0    200\n 0.70710678   0.70710678          0.0    300\n 0.70710678   0.70710678          0.0    400\n 0.70710678   0.70710678          0.0    500\n 0.70710678   0.70710678          0.0    800\n-0.70710678   0.70710678          0.0      5\n-0.70710678   0.70710678          0.0     10\n-0.70710678   0.70710678          0.0     20\n-0.70710678   0.70710678          0.0     30\n-0.70710678   0.70710678          0.0     40\n-0.70710678   0.70710678          0.0     50\n-0.70710678   0.70710678          0.0     70\n-0.70710678   0.70710678          0.0    100\n-0.70710678   0.70710678          0.0    200\n-0.70710678   0.70710678          0.0    300\n-0.70710678   0.70710678          0.0    400\n-0.70710678   0.70710678          0.0    500\n-0.70710678   0.70710678          0.0    800\n"
     ]
    }
   ],
   "source": [
    "bvals = [0, 5, 10, 20, 30, 40, 50, 70, 100, 200, 300, 400, 500, 800]\n",
    "bvecs = [[1, 0, 1],\n",
    "         [-1, 0, 1],\n",
    "         [0, 1, 1],\n",
    "         [0, 1, -1],\n",
    "         [1, 1, 0],\n",
    "         [-1, 1, 0]]\n",
    "\n",
    "gradient_scheme = make_gradient_scheme(bvals, bvecs,\n",
    "                                       normalize=True,\n",
    "                                       one_bzero=True)\n",
    "print(gradient_scheme)\n"
   ]
  },
  {
   "source": [
    "## Create the .dvs file and display it"
   ],
   "cell_type": "markdown",
   "metadata": {}
  },
  {
   "cell_type": "code",
   "execution_count": 4,
   "metadata": {},
   "outputs": [
    {
     "output_type": "stream",
     "name": "stdout",
     "text": [
      "# -----------------------------------------------------\n# .dvs file for the following setup:\n# b-val (s/mm2)  # directions\n# 0              1\n# 5              6\n# 10             6\n# 20             6\n# 30             6\n# 40             6\n# 50             6\n# 70             6\n# 100            6\n# 200            6\n# 300            6\n# 400            6\n# 500            6\n# 800            6\n# -----------------------------------------------------\n\n[directions=79]\nNormalization = none\nCoordinateSystem = prs\nComment = UKRIN-MAPS v2 (prs coordinate system), 20201121\n\nVector[0] = ( 0.000000, 0.000000, 0.000000 )\nVector[1] = ( 0.055902, 0.000000, 0.055902 )\nVector[2] = ( 0.079057, 0.000000, 0.079057 )\nVector[3] = ( 0.111803, 0.000000, 0.111803 )\nVector[4] = ( 0.136931, 0.000000, 0.136931 )\nVector[5] = ( 0.158114, 0.000000, 0.158114 )\nVector[6] = ( 0.176777, 0.000000, 0.176777 )\nVector[7] = ( 0.209165, 0.000000, 0.209165 )\nVector[8] = ( 0.250000, 0.000000, 0.250000 )\nVector[9] = ( 0.353553, 0.000000, 0.353553 )\nVector[10] = ( 0.433013, 0.000000, 0.433013 )\nVector[11] = ( 0.500000, 0.000000, 0.500000 )\nVector[12] = ( 0.559017, 0.000000, 0.559017 )\nVector[13] = ( 0.707107, 0.000000, 0.707107 )\nVector[14] = ( -0.055902, 0.000000, 0.055902 )\nVector[15] = ( -0.079057, 0.000000, 0.079057 )\nVector[16] = ( -0.111803, 0.000000, 0.111803 )\nVector[17] = ( -0.136931, 0.000000, 0.136931 )\nVector[18] = ( -0.158114, 0.000000, 0.158114 )\nVector[19] = ( -0.176777, 0.000000, 0.176777 )\nVector[20] = ( -0.209165, 0.000000, 0.209165 )\nVector[21] = ( -0.250000, 0.000000, 0.250000 )\nVector[22] = ( -0.353553, 0.000000, 0.353553 )\nVector[23] = ( -0.433013, 0.000000, 0.433013 )\nVector[24] = ( -0.500000, 0.000000, 0.500000 )\nVector[25] = ( -0.559017, 0.000000, 0.559017 )\nVector[26] = ( -0.707107, 0.000000, 0.707107 )\nVector[27] = ( 0.000000, 0.055902, 0.055902 )\nVector[28] = ( 0.000000, 0.079057, 0.079057 )\nVector[29] = ( 0.000000, 0.111803, 0.111803 )\nVector[30] = ( 0.000000, 0.136931, 0.136931 )\nVector[31] = ( 0.000000, 0.158114, 0.158114 )\nVector[32] = ( 0.000000, 0.176777, 0.176777 )\nVector[33] = ( 0.000000, 0.209165, 0.209165 )\nVector[34] = ( 0.000000, 0.250000, 0.250000 )\nVector[35] = ( 0.000000, 0.353553, 0.353553 )\nVector[36] = ( 0.000000, 0.433013, 0.433013 )\nVector[37] = ( 0.000000, 0.500000, 0.500000 )\nVector[38] = ( 0.000000, 0.559017, 0.559017 )\nVector[39] = ( 0.000000, 0.707107, 0.707107 )\nVector[40] = ( 0.000000, 0.055902, -0.055902 )\nVector[41] = ( 0.000000, 0.079057, -0.079057 )\nVector[42] = ( 0.000000, 0.111803, -0.111803 )\nVector[43] = ( 0.000000, 0.136931, -0.136931 )\nVector[44] = ( 0.000000, 0.158114, -0.158114 )\nVector[45] = ( 0.000000, 0.176777, -0.176777 )\nVector[46] = ( 0.000000, 0.209165, -0.209165 )\nVector[47] = ( 0.000000, 0.250000, -0.250000 )\nVector[48] = ( 0.000000, 0.353553, -0.353553 )\nVector[49] = ( 0.000000, 0.433013, -0.433013 )\nVector[50] = ( 0.000000, 0.500000, -0.500000 )\nVector[51] = ( 0.000000, 0.559017, -0.559017 )\nVector[52] = ( 0.000000, 0.707107, -0.707107 )\nVector[53] = ( 0.055902, 0.055902, 0.000000 )\nVector[54] = ( 0.079057, 0.079057, 0.000000 )\nVector[55] = ( 0.111803, 0.111803, 0.000000 )\nVector[56] = ( 0.136931, 0.136931, 0.000000 )\nVector[57] = ( 0.158114, 0.158114, 0.000000 )\nVector[58] = ( 0.176777, 0.176777, 0.000000 )\nVector[59] = ( 0.209165, 0.209165, 0.000000 )\nVector[60] = ( 0.250000, 0.250000, 0.000000 )\nVector[61] = ( 0.353553, 0.353553, 0.000000 )\nVector[62] = ( 0.433013, 0.433013, 0.000000 )\nVector[63] = ( 0.500000, 0.500000, 0.000000 )\nVector[64] = ( 0.559017, 0.559017, 0.000000 )\nVector[65] = ( 0.707107, 0.707107, 0.000000 )\nVector[66] = ( -0.055902, 0.055902, 0.000000 )\nVector[67] = ( -0.079057, 0.079057, 0.000000 )\nVector[68] = ( -0.111803, 0.111803, 0.000000 )\nVector[69] = ( -0.136931, 0.136931, 0.000000 )\nVector[70] = ( -0.158114, 0.158114, 0.000000 )\nVector[71] = ( -0.176777, 0.176777, 0.000000 )\nVector[72] = ( -0.209165, 0.209165, 0.000000 )\nVector[73] = ( -0.250000, 0.250000, 0.000000 )\nVector[74] = ( -0.353553, 0.353553, 0.000000 )\nVector[75] = ( -0.433013, 0.433013, 0.000000 )\nVector[76] = ( -0.500000, 0.500000, 0.000000 )\nVector[77] = ( -0.559017, 0.559017, 0.000000 )\nVector[78] = ( -0.707107, 0.707107, 0.000000 )\n\n# b-value[0] = 0\n# b-value[1] = 5\n# b-value[2] = 10\n# b-value[3] = 20\n# b-value[4] = 30\n# b-value[5] = 40\n# b-value[6] = 50\n# b-value[7] = 70\n# b-value[8] = 100\n# b-value[9] = 200\n# b-value[10] = 300\n# b-value[11] = 400\n# b-value[12] = 500\n# b-value[13] = 800\n# b-value[14] = 5\n# b-value[15] = 10\n# b-value[16] = 20\n# b-value[17] = 30\n# b-value[18] = 40\n# b-value[19] = 50\n# b-value[20] = 70\n# b-value[21] = 100\n# b-value[22] = 200\n# b-value[23] = 300\n# b-value[24] = 400\n# b-value[25] = 500\n# b-value[26] = 800\n# b-value[27] = 5\n# b-value[28] = 10\n# b-value[29] = 20\n# b-value[30] = 30\n# b-value[31] = 40\n# b-value[32] = 50\n# b-value[33] = 70\n# b-value[34] = 100\n# b-value[35] = 200\n# b-value[36] = 300\n# b-value[37] = 400\n# b-value[38] = 500\n# b-value[39] = 800\n# b-value[40] = 5\n# b-value[41] = 10\n# b-value[42] = 20\n# b-value[43] = 30\n# b-value[44] = 40\n# b-value[45] = 50\n# b-value[46] = 70\n# b-value[47] = 100\n# b-value[48] = 200\n# b-value[49] = 300\n# b-value[50] = 400\n# b-value[51] = 500\n# b-value[52] = 800\n# b-value[53] = 5\n# b-value[54] = 10\n# b-value[55] = 20\n# b-value[56] = 30\n# b-value[57] = 40\n# b-value[58] = 50\n# b-value[59] = 70\n# b-value[60] = 100\n# b-value[61] = 200\n# b-value[62] = 300\n# b-value[63] = 400\n# b-value[64] = 500\n# b-value[65] = 800\n# b-value[66] = 5\n# b-value[67] = 10\n# b-value[68] = 20\n# b-value[69] = 30\n# b-value[70] = 40\n# b-value[71] = 50\n# b-value[72] = 70\n# b-value[73] = 100\n# b-value[74] = 200\n# b-value[75] = 300\n# b-value[76] = 400\n# b-value[77] = 500\n# b-value[78] = 800\n"
     ]
    }
   ],
   "source": [
    "dvs_path, dvs = write_dvs(gradient_scheme, OUTPUT_PATH,\n",
    "                          normalization=NORMALIZATION,\n",
    "                          coordinate_system=COORDINATE_SYSTEM,\n",
    "                          comment=COMMENT)\n",
    "\n",
    "print(dvs)"
   ]
  }
 ]
}