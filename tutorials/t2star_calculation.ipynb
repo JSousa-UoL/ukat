{
 "cells": [
  {
   "cell_type": "markdown",
   "metadata": {},
   "source": [
    "# T2* map calculation tutorial"
   ]
  },
  {
   "cell_type": "markdown",
   "metadata": {},
   "source": [
    "Start by importing the required libraries and defining some settings:"
   ]
  },
  {
   "cell_type": "code",
   "execution_count": null,
   "metadata": {},
   "outputs": [],
   "source": [
    "import os\n",
    "import nibabel as nib\n",
    "import numpy as np\n",
    "import matplotlib.pyplot as plt\n",
    "\n",
    "from ukat.data import fetch\n",
    "from ukat.mapping.t2star import T2Star\n",
    "\n",
    "# Ensure figures are rendered in the notebook\n",
    "%matplotlib inline\n"
   ]
  },
  {
   "cell_type": "markdown",
   "metadata": {},
   "source": [
    "Tell python where to store the T2* maps NIfTI files we will generate. We will store it in a directory called `t2star_calculation_output` in the `tutorials` directory."
   ]
  },
  {
   "cell_type": "code",
   "execution_count": null,
   "metadata": {},
   "outputs": [],
   "source": [
    "# Initialise output path for T2star map\n",
    "OUTPUT_DIR = os.path.join(os.getcwd(), \"t2star_calculation_output\")"
   ]
  },
  {
   "cell_type": "markdown",
   "metadata": {},
   "source": [
    "Retrieve T2* test data using our data fetcher.\n",
    "This will return 3 variables:\n",
    "* `image`: a 4D array with the magnitude data at all echo times.\n",
    "* `affine`: the affine matrix for the data (needed to later write a new NIfTI file).\n",
    "* `te`: an array containing the echo times, in seconds."
   ]
  },
  {
   "cell_type": "code",
   "execution_count": null,
   "metadata": {},
   "outputs": [],
   "source": [
    "# Fetch test data\n",
    "image, affine, te = fetch.r2star_philips()\n",
    "te = te * 1000  # convert TE to ms"
   ]
  },
  {
   "cell_type": "markdown",
   "metadata": {},
   "source": [
    "Compute the T2* maps using the `T2Star` class implemented in `mapping`. We'll start with the logarithmic linear fitting\n",
    "method (`loglin`)."
   ]
  },
  {
   "cell_type": "code",
   "execution_count": null,
   "metadata": {},
   "outputs": [],
   "source": [
    "# Initialise the loglin mapping object\n",
    "mapper_loglin = T2Star(image, te, method='loglin')\n",
    "\n",
    "# Extract the T2* map from the object\n",
    "t2star_loglin = mapper_loglin.t2star_map\n",
    "\n",
    "# Save output maps to Nifti\n",
    "mapper_loglin.to_nifti(output_directory=OUTPUT_DIR, maps=['m0', 'r2star'], base_file_name='Philips_loglin', affine=affine)"
   ]
  },
  {
   "cell_type": "markdown",
   "metadata": {
    "pycharm": {
     "name": "#%% md\n"
    }
   },
   "source": [
    "Now we're going to calculate the T2* map using the two parameter exponential curve fitting method (`2p_exp`). This method\n",
    "takes quite a lot longer but is more accurate for T2* less than 20 ms such as in the liver."
   ]
  },
  {
   "cell_type": "code",
   "execution_count": null,
   "metadata": {
    "pycharm": {
     "name": "#%%\n"
    }
   },
   "outputs": [],
   "source": [
    "# Initialise the loglin mapping object\n",
    "mapper_2p_exp = T2Star(image, te, method='2p_exp')\n",
    "\n",
    "# Extract the T2* map from the object\n",
    "t2star_2p_exp = mapper_2p_exp.t2star_map\n",
    "\n",
    "# Save output maps to Nifti\n",
    "mapper_2p_exp.to_nifti(output_directory=OUTPUT_DIR, maps=['m0', 'r2star'], base_file_name='Philips_2p_exp', affine=affine)"
   ]
  },
  {
   "cell_type": "markdown",
   "metadata": {},
   "source": [
    "Display a central slice of the T2* maps and the difference between them. Note the units are _ms_."
   ]
  },
  {
   "cell_type": "code",
   "execution_count": null,
   "metadata": {},
   "outputs": [],
   "source": [
    "fig, (ax1, ax2, ax3) = plt.subplots(1, 3, figsize=(15, 4))\n",
    "\n",
    "# Display a central slice of the log linear T2* map\n",
    "im = ax1.imshow(np.rot90(t2star_loglin[:, :, 2]), cmap='inferno', clim=(0, 80))\n",
    "cb = fig.colorbar(im, ax=ax1)\n",
    "cb.set_label('$T_2*$ (ms)')\n",
    "ax1.axis('off')\n",
    "\n",
    "# Display a central slice of the exponential curve fit T2* map\n",
    "im = ax2.imshow(np.rot90(t2star_2p_exp[:, :, 2]), cmap='inferno', clim=(0, 80))\n",
    "cb = fig.colorbar(im, ax=ax2)\n",
    "cb.set_label('$T_2*$ (ms)')\n",
    "ax2.axis('off')\n",
    "\n",
    "# Display the difference between the two mapping methods\n",
    "im = ax3.imshow(np.rot90(t2star_loglin[:, :, 2] - t2star_2p_exp[:, :, 2]), cmap='bwr', clim=(-10, 10))\n",
    "cb = fig.colorbar(im, ax=ax3)\n",
    "cb.set_label('$\\Delta T_2*$ (ms)')\n",
    "ax3.axis('off')\n",
    "\n",
    "plt.show()"
   ]
  },
  {
   "cell_type": "markdown",
   "metadata": {
    "pycharm": {
     "name": "#%% md\n"
    }
   },
   "source": [
    "We can also view the corresponding R2* map."
   ]
  },
  {
   "cell_type": "code",
   "execution_count": null,
   "metadata": {
    "pycharm": {
     "name": "#%%\n"
    }
   },
   "outputs": [],
   "source": [
    "r2star_2p_exp = mapper_2p_exp.r2star_map()\n",
    "\n",
    "fig, ax = plt.subplots()\n",
    "im = ax.imshow(np.rot90(r2star_2p_exp[:, :, 2] * 1000), cmap='cividis', clim=(0, 100))\n",
    "cb = fig.colorbar(im)\n",
    "cb.set_label('$R_2*$ (s$^{-1})$')\n",
    "ax.axis('off')\n",
    "plt.show()"
   ]
  }
 ],
 "metadata": {
  "kernelspec": {
   "display_name": "Python 3",
   "language": "python",
   "name": "python3"
  },
  "language_info": {
   "codemirror_mode": {
    "name": "ipython",
    "version": 3
   },
   "file_extension": ".py",
   "mimetype": "text/x-python",
   "name": "python",
   "nbconvert_exporter": "python",
   "pygments_lexer": "ipython3",
   "version": "3.7.9"
  }
 },
 "nbformat": 4,
 "nbformat_minor": 4
}
