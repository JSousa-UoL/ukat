{
 "cells": [
  {
   "cell_type": "code",
   "execution_count": 2,
   "metadata": {},
   "outputs": [],
   "source": [
    "import os\n",
    "import sys\n",
    "import nibabel as nib\n",
    "import numpy as np\n",
    "import json\n",
    "sys.path.append(os.path.join(\"..\", 'methods'))"
   ]
  },
  {
   "cell_type": "code",
   "execution_count": 3,
   "metadata": {},
   "outputs": [],
   "source": [
    "import re\n",
    "def sorted_alphanumeric(data):\n",
    "    convert = lambda text: int(text) if text.isdigit() else text.lower()\n",
    "    alphanum_key = lambda key: [ convert(c) for c in re.split('([0-9]+)', key) ] \n",
    "    return sorted(data, key=alphanum_key)"
   ]
  },
  {
   "cell_type": "code",
   "execution_count": 5,
   "metadata": {
    "scrolled": true
   },
   "outputs": [],
   "source": [
    "# Convert DICOM folder to NifTi files\n",
    "base_directory = os.path.join(\"..\", 'data\\\\GE\\\\R2StarMapping\\\\NoFatSat')\n",
    "input_dicom_folder = os.path.join(base_directory, 'DICOM')\n",
    "input_nifti_folder = os.path.join(base_directory, 'NIFTI')\n",
    "#!dcm2niix -o $input_nifti_folder $input_dicom_folder"
   ]
  },
  {
   "cell_type": "code",
   "execution_count": 6,
   "metadata": {},
   "outputs": [
    {
     "name": "stdout",
     "output_type": "stream",
     "text": [
      "(256, 256, 5, 3)\n",
      "[[-1.49995685e+00 -4.35000053e-04 -3.79340500e-02  1.71562668e+02]\n",
      " [ 1.13700135e-02 -1.41825020e-01 -4.97752333e+00 -2.49882889e+00]\n",
      " [ 6.45000779e-04  1.49328017e+00 -4.72753823e-01 -1.03215424e+02]\n",
      " [ 0.00000000e+00  0.00000000e+00  0.00000000e+00  1.00000000e+00]]\n",
      "[[  -1.5     0.      0.    191.25]\n",
      " [   0.      1.5     0.   -191.25]\n",
      " [   0.      0.      5.    -10.  ]\n",
      " [   0.      0.      0.      1.  ]]\n"
     ]
    }
   ],
   "source": [
    "# Open 1 Image and Affine from 1 NifTi file\n",
    "input_nifti_file = 'DICOM_FS_InPhase_Cor_R2_Mapping_BH_+_phase_20191009093933_17_e1.nii'\n",
    "data = nib.load(os.path.join(input_nifti_folder, input_nifti_file))\n",
    "input_affine = data.affine\n",
    "# Print Image Shape and Affines\n",
    "print(data.get_fdata().shape)\n",
    "print(input_affine)\n",
    "print(data.header.get_base_affine())"
   ]
  },
  {
   "cell_type": "code",
   "execution_count": 7,
   "metadata": {},
   "outputs": [
    {
     "name": "stdout",
     "output_type": "stream",
     "text": [
      "<class 'nibabel.nifti1.Nifti1Header'> object, endian='<'\n",
      "sizeof_hdr      : 348\n",
      "data_type       : b''\n",
      "db_name         : b''\n",
      "extents         : 0\n",
      "session_error   : 0\n",
      "regular         : b'r'\n",
      "dim_info        : 54\n",
      "dim             : [  4 256 256   5   3   1   1   1]\n",
      "intent_p1       : 0.0\n",
      "intent_p2       : 0.0\n",
      "intent_p3       : 0.0\n",
      "intent_code     : none\n",
      "datatype        : int16\n",
      "bitpix          : 16\n",
      "slice_start     : 0\n",
      "pixdim          : [-1.    1.5   1.5   5.    0.13  0.    0.    0.  ]\n",
      "vox_offset      : 0.0\n",
      "scl_slope       : nan\n",
      "scl_inter       : nan\n",
      "slice_end       : 0\n",
      "slice_code      : unknown\n",
      "xyzt_units      : 10\n",
      "cal_max         : 0.0\n",
      "cal_min         : 0.0\n",
      "slice_duration  : 0.0\n",
      "toffset         : 0.0\n",
      "glmax           : 0\n",
      "glmin           : 0\n",
      "descrip         : b'TE=4.6;Time=102007.000'\n",
      "aux_file        : b''\n",
      "qform_code      : scanner\n",
      "sform_code      : scanner\n",
      "quatern_b       : 0.002708938\n",
      "quatern_c       : 0.67284316\n",
      "quatern_d       : 0.7397754\n",
      "qoffset_x       : 171.56267\n",
      "qoffset_y       : -2.498829\n",
      "qoffset_z       : -103.21542\n",
      "srow_x          : [-1.4999568e+00 -4.3500005e-04 -3.7934050e-02  1.7156267e+02]\n",
      "srow_y          : [ 0.01137001 -0.14182502 -4.9775233  -2.498829  ]\n",
      "srow_z          : [ 6.4500078e-04  1.4932802e+00 -4.7275382e-01 -1.0321542e+02]\n",
      "intent_name     : b''\n",
      "magic           : b'n+1'\n"
     ]
    }
   ],
   "source": [
    "#Inspect and read the header of the NifTi variable\n",
    "print(data.header)"
   ]
  },
  {
   "cell_type": "code",
   "execution_count": 8,
   "metadata": {},
   "outputs": [
    {
     "name": "stdout",
     "output_type": "stream",
     "text": [
      "DICOM_FS_InPhase_Cor_R2_Mapping_BH_+_phase_20191009093933_17_e1.json\n",
      "Echo Time = 0.0046\n",
      "DICOM_FS_InPhase_Cor_R2_Mapping_BH_+_phase_20191009093933_17_e1.nii\n",
      "DICOM_FS_InPhase_Cor_R2_Mapping_BH_+_phase_20191009093933_17_e2.json\n",
      "Echo Time = 0.009212\n",
      "DICOM_FS_InPhase_Cor_R2_Mapping_BH_+_phase_20191009093933_17_e2.nii\n",
      "DICOM_FS_InPhase_Cor_R2_Mapping_BH_+_phase_20191009093933_17_e3.json\n",
      "Echo Time = 0.013824\n",
      "DICOM_FS_InPhase_Cor_R2_Mapping_BH_+_phase_20191009093933_17_e3.nii\n",
      "DICOM_FS_InPhase_Cor_R2_Mapping_BH_+_phase_20191009093933_17_e4.json\n",
      "Echo Time = 0.018436\n",
      "DICOM_FS_InPhase_Cor_R2_Mapping_BH_+_phase_20191009093933_17_e4.nii\n",
      "DICOM_FS_InPhase_Cor_R2_Mapping_BH_+_phase_20191009093933_17_e5.json\n",
      "Echo Time = 0.023048\n",
      "DICOM_FS_InPhase_Cor_R2_Mapping_BH_+_phase_20191009093933_17_e5.nii\n",
      "DICOM_FS_InPhase_Cor_R2_Mapping_BH_+_phase_20191009093933_17_e6.json\n",
      "Echo Time = 0.02766\n",
      "DICOM_FS_InPhase_Cor_R2_Mapping_BH_+_phase_20191009093933_17_e6.nii\n",
      "DICOM_FS_InPhase_Cor_R2_Mapping_BH_+_phase_20191009093933_17_e7.json\n",
      "Echo Time = 0.032272\n",
      "DICOM_FS_InPhase_Cor_R2_Mapping_BH_+_phase_20191009093933_17_e7.nii\n",
      "DICOM_FS_InPhase_Cor_R2_Mapping_BH_+_phase_20191009093933_17_e8.json\n",
      "Echo Time = 0.036884\n",
      "DICOM_FS_InPhase_Cor_R2_Mapping_BH_+_phase_20191009093933_17_e8.nii\n",
      "DICOM_FS_InPhase_Cor_R2_Mapping_BH_+_phase_20191009093933_17_e9.json\n",
      "Echo Time = 0.041496\n",
      "DICOM_FS_InPhase_Cor_R2_Mapping_BH_+_phase_20191009093933_17_e9.nii\n",
      "DICOM_FS_InPhase_Cor_R2_Mapping_BH_+_phase_20191009093933_17_e10.json\n",
      "Echo Time = 0.046108\n",
      "DICOM_FS_InPhase_Cor_R2_Mapping_BH_+_phase_20191009093933_17_e10.nii\n",
      "DICOM_FS_InPhase_Cor_R2_Mapping_BH_+_phase_20191009093933_17_e11.json\n",
      "Echo Time = 0.05072\n",
      "DICOM_FS_InPhase_Cor_R2_Mapping_BH_+_phase_20191009093933_17_e11.nii\n",
      "DICOM_FS_InPhase_Cor_R2_Mapping_BH_+_phase_20191009093933_17_e12.json\n",
      "Echo Time = 0.055332\n",
      "DICOM_FS_InPhase_Cor_R2_Mapping_BH_+_phase_20191009093933_17_e12.nii\n",
      "T2StarMap.nii.gz\n"
     ]
    }
   ],
   "source": [
    "# Open all images of the sequence - Pre-processing\n",
    "image = []\n",
    "echo_list = []\n",
    "for file in sorted_alphanumeric(os.listdir(input_nifti_folder)):\n",
    "    print(file)\n",
    "    if file.endswith(\".nii\"):\n",
    "        data = nib.load(os.path.join(input_nifti_folder, file))\n",
    "        image.append(data.get_fdata()[..., 0])\n",
    "    elif file.endswith(\".json\"):\n",
    "        with open(os.path.join(input_nifti_folder, file), 'r') as json_file:\n",
    "            hdr = json.load(json_file)\n",
    "        print('Echo Time = ' + str(hdr['EchoTime']))\n",
    "        echo_list.append(hdr['EchoTime'])"
   ]
  },
  {
   "cell_type": "code",
   "execution_count": 9,
   "metadata": {},
   "outputs": [
    {
     "name": "stdout",
     "output_type": "stream",
     "text": [
      "[ 4.6    9.212 13.824 18.436 23.048 27.66  32.272 36.884 41.496 46.108\n",
      " 50.72  55.332]\n",
      "(256, 256, 5, 12)\n"
     ]
    }
   ],
   "source": [
    "# T2Star Input parameters\n",
    "input_image = np.moveaxis(np.array(image), 0, -1) # First dimension is 12 echoes - moved to last axes\n",
    "echo_list = np.unique(echo_list) * 1000 #Convert from s to ms\n",
    "print(echo_list)\n",
    "print(np.shape(input_image))"
   ]
  },
  {
   "cell_type": "code",
   "execution_count": null,
   "metadata": {},
   "outputs": [
    {
     "name": "stderr",
     "output_type": "stream",
     "text": [
      "..\\methods\\T2Star.py:91: RuntimeWarning: divide by zero encountered in double_scalars\n",
      "  weight = 1 / (sigma ** 2)\n",
      "..\\methods\\T2Star.py:97: RuntimeWarning: divide by zero encountered in double_scalars\n",
      "  weight = 1 / (sigma ** 2)\n"
     ]
    }
   ],
   "source": [
    "# Calculate T2Star\n",
    "from T2Star import T2Star\n",
    "result, _, _ = T2Star(input_image, echo_list).T2Star_Nottingham()"
   ]
  },
  {
   "cell_type": "code",
   "execution_count": null,
   "metadata": {},
   "outputs": [],
   "source": [
    "# Save result into new NifTi file\n",
    "output_nifti_file = 'T2StarMap.nii.gz'\n",
    "new_data = nib.Nifti1Image(result, affine=input_affine)\n",
    "nib.save(new_data, os.path.join(input_nifti_folder, output_nifti_file))"
   ]
  }
 ],
 "metadata": {
  "kernelspec": {
   "display_name": "Python 3",
   "language": "python",
   "name": "python3"
  },
  "language_info": {
   "codemirror_mode": {
    "name": "ipython",
    "version": 3
   },
   "file_extension": ".py",
   "mimetype": "text/x-python",
   "name": "python",
   "nbconvert_exporter": "python",
   "pygments_lexer": "ipython3",
   "version": "3.7.4"
  }
 },
 "nbformat": 4,
 "nbformat_minor": 2
}
