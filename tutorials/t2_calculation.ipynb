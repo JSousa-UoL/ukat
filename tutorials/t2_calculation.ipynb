{
 "cells": [
  {
   "cell_type": "markdown",
   "metadata": {},
   "source": [
    "# T2 map calculation tutorial"
   ]
  },
  {
   "cell_type": "markdown",
   "metadata": {},
   "source": [
    "Start by importing the required libraries and defining some settings:"
   ]
  },
  {
   "cell_type": "code",
   "execution_count": null,
   "metadata": {
    "pycharm": {
     "is_executing": false
    }
   },
   "outputs": [],
   "source": [
    "import os\n",
    "import nibabel as nib\n",
    "import numpy as np\n",
    "import matplotlib.pyplot as plt\n",
    "\n",
    "from ukat.data import fetch\n",
    "from ukat.mapping.t2 import T2\n",
    "\n",
    "# Ensure figures are rendered in the notebook\n",
    "%matplotlib inline\n"
   ]
  },
  {
   "cell_type": "markdown",
   "metadata": {},
   "source": [
    "Tell python where to store the T2 maps NIfTI files we will generate. We will store it in a directory called `t2_calculation_output` in the `tutorials` directory."
   ]
  },
  {
   "cell_type": "code",
   "execution_count": null,
   "metadata": {
    "pycharm": {
     "is_executing": false
    }
   },
   "outputs": [],
   "source": [
    "# Initialise output path for T2star map\n",
    "OUTPUT_DIR = os.path.join(os.getcwd(), \"t2_calculation_output\")"
   ]
  },
  {
   "cell_type": "markdown",
   "metadata": {},
   "source": [
    "Retrieve T2 test data using our data fetcher.\n",
    "This will return 3 variables:\n",
    "* `image`: a 4D array with the magnitude data at all echo times.\n",
    "* `affine`: the affine matrix for the data (needed to later write a new NIfTI file).\n",
    "* `te`: an array containing the echo times, in seconds."
   ]
  },
  {
   "cell_type": "code",
   "execution_count": null,
   "metadata": {
    "pycharm": {
     "is_executing": false
    }
   },
   "outputs": [],
   "source": [
    "# Fetch test data\n",
    "image, affine, te = fetch.t2_philips(1)\n",
    "te = te * 1000  # convert TE to ms"
   ]
  },
  {
   "cell_type": "markdown",
   "metadata": {},
   "source": [
    "Compute the T2 maps using the `T2` class implemented in `mapping`."
   ]
  },
  {
   "cell_type": "code",
   "execution_count": null,
   "metadata": {
    "pycharm": {
     "is_executing": false
    }
   },
   "outputs": [],
   "source": [
    "# Initialise the mapping object\n",
    "mapper = T2(image, te)\n",
    "\n",
    "# Extract the T2 map from the object\n",
    "t2_map = mapper.t2_map\n",
    "\n",
    "# Save output maps to Nifti\n",
    "mapper.to_nifti(output_directory=OUTPUT_DIR, base_file_name='Philips2', maps='all', affine=affine)\n",
    "mapper.to_nifti(output_directory=OUTPUT_DIR, base_file_name='Philips2', maps=['m0_err', 'r2'], affine=affine)"
   ]
  },
  {
   "cell_type": "markdown",
   "metadata": {},
   "source": [
    "Display a central slice of the T2 map and derived measures."
   ]
  },
  {
   "cell_type": "code",
   "execution_count": null,
   "metadata": {
    "pycharm": {
     "is_executing": false
    }
   },
   "outputs": [],
   "source": [
    "fig, ax = plt.subplots(2, 2, figsize=(8, 6))\n",
    "\n",
    "# Display a central slice of the T2 map\n",
    "im = ax[0, 0].imshow(np.rot90(t2_map[:, :, 2]), cmap='inferno', clim=(75, 150))\n",
    "cb = fig.colorbar(im, ax=ax[0, 0])\n",
    "cb.set_label('$T_2$ (ms)')\n",
    "ax[0, 0].axis('off')\n",
    "\n",
    "# Display a central slice of the M0 map\n",
    "im = ax[0, 1].imshow(np.rot90(mapper.m0_map[:, :, 2]), cmap='viridis', clim=(0, 2000))\n",
    "cb = fig.colorbar(im, ax=ax[0, 1])\n",
    "cb.set_label('$M_0$')\n",
    "ax[0, 1].axis('off')\n",
    "\n",
    "# Display a central slice of the T2 confidence intervals\n",
    "im = ax[1, 0].imshow(np.rot90(mapper.t2_err[:, :, 2]), cmap='cividis', clim=(0, 25))\n",
    "cb = fig.colorbar(im, ax=ax[1, 0])\n",
    "cb.set_label('$T_2$ Confidence Intervals')\n",
    "ax[1, 0].axis('off')\n",
    "\n",
    "# Display a central slice of the M0 confidence intervals\n",
    "im = ax[1, 1].imshow(np.rot90(mapper.m0_err[:, :, 2]), cmap='cividis', clim=(0, 100))\n",
    "cb = fig.colorbar(im, ax=ax[1, 1])\n",
    "cb.set_label('$M_0$ Confidence Intervals')\n",
    "ax[1, 1].axis('off')\n",
    "\n",
    "plt.show()"
   ]
  }
 ],
 "metadata": {
  "kernelspec": {
   "display_name": "Python 3",
   "language": "python",
   "name": "python3"
  },
  "language_info": {
   "codemirror_mode": {
    "name": "ipython",
    "version": 3
   },
   "file_extension": ".py",
   "mimetype": "text/x-python",
   "name": "python",
   "nbconvert_exporter": "python",
   "pygments_lexer": "ipython3",
   "version": "3.7.9"
  },
  "pycharm": {
   "stem_cell": {
    "cell_type": "raw",
    "metadata": {
     "collapsed": false
    },
    "source": []
   }
  }
 },
 "nbformat": 4,
 "nbformat_minor": 4
}
